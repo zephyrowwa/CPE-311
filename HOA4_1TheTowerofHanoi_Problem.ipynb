{
  "nbformat": 4,
  "nbformat_minor": 0,
  "metadata": {
    "colab": {
      "provenance": []
    },
    "kernelspec": {
      "name": "python3",
      "display_name": "Python 3"
    },
    "language_info": {
      "name": "python"
    }
  },
  "cells": [
    {
      "cell_type": "markdown",
      "source": [
        "**ILOs**\n",
        "\n",
        "Analyze and solve computational problems using problem solving methodologies and decomposition\n",
        "\n",
        "**OBJECTIVES**\n",
        "\n",
        "\n",
        "Introduce students to the Tower of Hanoi Problem;\n",
        "\n",
        "\n",
        "Apply the fundamentals of logical and algorithmic thinking;\n",
        "\n",
        "\n",
        "Solve the Tower of Hanoi Problem using Python.\n"
      ],
      "metadata": {
        "id": "me_oOsYlIliL"
      }
    },
    {
      "cell_type": "markdown",
      "source": [
        "**Discussion**\n",
        "\n",
        "The Tower of Hanoi is a mathematical puzzle invented by the French mathematician Edouard Lucas. in 1883.\n",
        "\n",
        "There are three pegs, source(A), Auxiliary (B) and Destination(C). Peg A contains a set of disks stacked to resemble a tower, with the largest disk at the bottom and the smallest disk at the top. figure 1 Illustrate the initial configuration of the pegs for 3 disks. The objective is to transfer the entire tower of disks in peg A to peg C maintaining the same order of the disks.\n",
        "\n",
        "Obeying the following rules:\n",
        "\n",
        "Only one disk can be transfer at a time.\n",
        "\n",
        "\n",
        "Each move consists of taking the upper disk from one of the peg and placing it on the top of another peg i.e. a disk can only be moved if it is the uppermost disk of the peg.\n",
        "\n",
        "\n",
        "Never a larger disk is placed on a smaller disk during the transfer.\n",
        "\n",
        "\n",
        "The solution to the puzzle calls for an application of recursive functions and recurrence relations."
      ],
      "metadata": {
        "id": "8QQPPzYbI7ol"
      }
    },
    {
      "cell_type": "markdown",
      "source": [
        "*Figure 1.1 Initial State of the Tower of Hanoi Problem*\n",
        "\n",
        "A skeletal recursive procedure (Outline) for the solution of the problem for N number of disks is as follows:\n",
        "\n",
        "Move the top N-1 disks from peg A to peg B (using C as an auxiliarypeg)\n",
        "\n",
        "\n",
        "Move the bottom disk from peg A to peg C\n",
        "\n",
        "\n",
        "Move N-1 disks from Peg B to Peg C (using Peg A as an auxiliary peg)\n"
      ],
      "metadata": {
        "id": "yZPxHcwnJYPK"
      }
    },
    {
      "cell_type": "code",
      "source": [
        "TOH( n,  Sour, Aux , Des)\n",
        "If(n=1)\n",
        "    Write (\"Move Disk “, n ,\" from \", Sour ,\" to \",Des)\n",
        "Else\n",
        "    TOH(n-1,Sour,Des,Aux);\n",
        "    Write (\"Move Disk “, n ,\" from \", Sour ,\" to \",Des)\n",
        "    TOH(n-1,Aux,Sour,Des);\n",
        "END\n",
        "\n",
        "           #C++"
      ],
      "metadata": {
        "id": "ejQGIqnuJ1ai"
      },
      "execution_count": null,
      "outputs": []
    },
    {
      "cell_type": "markdown",
      "source": [
        "**Procedure**\n",
        "\n",
        "\n",
        "Implement the algorithm for the Tower of Hanoi Problem as shown above.\n",
        "\n",
        "\n",
        "Write your observations for your written algorithm/solution."
      ],
      "metadata": {
        "id": "TsSrFNSlJ52f"
      }
    },
    {
      "cell_type": "code",
      "source": [
        "def TOH(n ,src, aux, des): #funtion to do the tower of hanoi\n",
        "\n",
        "    if(n==1):  #if base case is true  it outputs the movement of the disc\n",
        "        print(\"move disk: \", n, \"from \", src, \"to\", des) # from source to destination\n",
        "\n",
        "    else: #if not it recursiveley calls TOH function 2 times\n",
        "        TOH(n-1,src, des, aux) # 1st time: moves n-1 disks from src to des\n",
        "        print(\"move disc: \", n ,\"from \", src, \"to\", des) # then moves nth disk from src to dest\n",
        "        TOH(n-1, aux, src, des) # 2nd time: recursivley moves n-1 from aux to des using des as an temporary aux\n",
        "\n",
        "    '''stops when n becomes 1 then prints the move of the single disk from source to destination peg'''\n",
        "\n",
        "n = int(input(\"Enter # of disks: \")) #driver to ask for how many discs (n)\n",
        "TOH(n,'A','B','C')"
      ],
      "metadata": {
        "colab": {
          "base_uri": "https://localhost:8080/"
        },
        "id": "cgZX6r6UOU0-",
        "outputId": "b85cdb7f-1271-41e4-d81d-6ea7661d252b"
      },
      "execution_count": 15,
      "outputs": [
        {
          "output_type": "stream",
          "name": "stdout",
          "text": [
            "Enter # of disks: 3\n",
            "move disk:  1 from  A to C\n",
            "move disc:  2 from  A to B\n",
            "move disk:  1 from  C to B\n",
            "move disc:  3 from  A to C\n",
            "move disk:  1 from  B to A\n",
            "move disc:  2 from  B to C\n",
            "move disk:  1 from  A to C\n"
          ]
        }
      ]
    },
    {
      "cell_type": "code",
      "source": [
        "n = int(input(\"Enter # of disks: \"))\n",
        "TOH(n,'A','B','C')\n",
        "#7 DISCS"
      ],
      "metadata": {
        "colab": {
          "base_uri": "https://localhost:8080/"
        },
        "id": "V-r3KS_bQsqi",
        "outputId": "dee735df-9d77-4ef1-d101-36fb009c62ed"
      },
      "execution_count": 13,
      "outputs": [
        {
          "output_type": "stream",
          "name": "stdout",
          "text": [
            "Enter # of disks: 7\n",
            "move disk:  1 from  A to C\n",
            "move disc:  2 from  A to B\n",
            "move disk:  1 from  C to B\n",
            "move disc:  3 from  A to C\n",
            "move disk:  1 from  B to A\n",
            "move disc:  2 from  B to C\n",
            "move disk:  1 from  A to C\n",
            "move disc:  4 from  A to B\n",
            "move disk:  1 from  C to B\n",
            "move disc:  2 from  C to A\n",
            "move disk:  1 from  B to A\n",
            "move disc:  3 from  C to B\n",
            "move disk:  1 from  A to C\n",
            "move disc:  2 from  A to B\n",
            "move disk:  1 from  C to B\n",
            "move disc:  5 from  A to C\n",
            "move disk:  1 from  B to A\n",
            "move disc:  2 from  B to C\n",
            "move disk:  1 from  A to C\n",
            "move disc:  3 from  B to A\n",
            "move disk:  1 from  C to B\n",
            "move disc:  2 from  C to A\n",
            "move disk:  1 from  B to A\n",
            "move disc:  4 from  B to C\n",
            "move disk:  1 from  A to C\n",
            "move disc:  2 from  A to B\n",
            "move disk:  1 from  C to B\n",
            "move disc:  3 from  A to C\n",
            "move disk:  1 from  B to A\n",
            "move disc:  2 from  B to C\n",
            "move disk:  1 from  A to C\n",
            "move disc:  6 from  A to B\n",
            "move disk:  1 from  C to B\n",
            "move disc:  2 from  C to A\n",
            "move disk:  1 from  B to A\n",
            "move disc:  3 from  C to B\n",
            "move disk:  1 from  A to C\n",
            "move disc:  2 from  A to B\n",
            "move disk:  1 from  C to B\n",
            "move disc:  4 from  C to A\n",
            "move disk:  1 from  B to A\n",
            "move disc:  2 from  B to C\n",
            "move disk:  1 from  A to C\n",
            "move disc:  3 from  B to A\n",
            "move disk:  1 from  C to B\n",
            "move disc:  2 from  C to A\n",
            "move disk:  1 from  B to A\n",
            "move disc:  5 from  C to B\n",
            "move disk:  1 from  A to C\n",
            "move disc:  2 from  A to B\n",
            "move disk:  1 from  C to B\n",
            "move disc:  3 from  A to C\n",
            "move disk:  1 from  B to A\n",
            "move disc:  2 from  B to C\n",
            "move disk:  1 from  A to C\n",
            "move disc:  4 from  A to B\n",
            "move disk:  1 from  C to B\n",
            "move disc:  2 from  C to A\n",
            "move disk:  1 from  B to A\n",
            "move disc:  3 from  C to B\n",
            "move disk:  1 from  A to C\n",
            "move disc:  2 from  A to B\n",
            "move disk:  1 from  C to B\n",
            "move disc:  7 from  A to C\n",
            "move disk:  1 from  B to A\n",
            "move disc:  2 from  B to C\n",
            "move disk:  1 from  A to C\n",
            "move disc:  3 from  B to A\n",
            "move disk:  1 from  C to B\n",
            "move disc:  2 from  C to A\n",
            "move disk:  1 from  B to A\n",
            "move disc:  4 from  B to C\n",
            "move disk:  1 from  A to C\n",
            "move disc:  2 from  A to B\n",
            "move disk:  1 from  C to B\n",
            "move disc:  3 from  A to C\n",
            "move disk:  1 from  B to A\n",
            "move disc:  2 from  B to C\n",
            "move disk:  1 from  A to C\n",
            "move disc:  5 from  B to A\n",
            "move disk:  1 from  C to B\n",
            "move disc:  2 from  C to A\n",
            "move disk:  1 from  B to A\n",
            "move disc:  3 from  C to B\n",
            "move disk:  1 from  A to C\n",
            "move disc:  2 from  A to B\n",
            "move disk:  1 from  C to B\n",
            "move disc:  4 from  C to A\n",
            "move disk:  1 from  B to A\n",
            "move disc:  2 from  B to C\n",
            "move disk:  1 from  A to C\n",
            "move disc:  3 from  B to A\n",
            "move disk:  1 from  C to B\n",
            "move disc:  2 from  C to A\n",
            "move disk:  1 from  B to A\n",
            "move disc:  6 from  B to C\n",
            "move disk:  1 from  A to C\n",
            "move disc:  2 from  A to B\n",
            "move disk:  1 from  C to B\n",
            "move disc:  3 from  A to C\n",
            "move disk:  1 from  B to A\n",
            "move disc:  2 from  B to C\n",
            "move disk:  1 from  A to C\n",
            "move disc:  4 from  A to B\n",
            "move disk:  1 from  C to B\n",
            "move disc:  2 from  C to A\n",
            "move disk:  1 from  B to A\n",
            "move disc:  3 from  C to B\n",
            "move disk:  1 from  A to C\n",
            "move disc:  2 from  A to B\n",
            "move disk:  1 from  C to B\n",
            "move disc:  5 from  A to C\n",
            "move disk:  1 from  B to A\n",
            "move disc:  2 from  B to C\n",
            "move disk:  1 from  A to C\n",
            "move disc:  3 from  B to A\n",
            "move disk:  1 from  C to B\n",
            "move disc:  2 from  C to A\n",
            "move disk:  1 from  B to A\n",
            "move disc:  4 from  B to C\n",
            "move disk:  1 from  A to C\n",
            "move disc:  2 from  A to B\n",
            "move disk:  1 from  C to B\n",
            "move disc:  3 from  A to C\n",
            "move disk:  1 from  B to A\n",
            "move disc:  2 from  B to C\n",
            "move disk:  1 from  A to C\n"
          ]
        }
      ]
    },
    {
      "cell_type": "markdown",
      "source": [
        "**Supplementary Activity**\n",
        "\n",
        "\n",
        "Explain the programming paradigms/techniques (like recursion or dynamic programming) that you used to solve the given problem.\n",
        "\n",
        "\n",
        "Provide screenshots of the techniques and provide a quick analysis."
      ],
      "metadata": {
        "id": "eNWL8-v5J-Xr"
      }
    },
    {
      "cell_type": "markdown",
      "source": [
        "- The technique used here is Recursive Programming, to solve the problem it divides the problem into smaller sub problems; moving the discs from source, auxillary and destination pegs, the moving of discs is divided into 3 steps and then ends whenever the base case is solved or when all the discs are moved from source peg to the destination peg"
      ],
      "metadata": {
        "id": "xRnrrsYtVDjZ"
      }
    },
    {
      "cell_type": "markdown",
      "source": [
        "when the 3rd disc is moved the patter recurses/ repeats"
      ],
      "metadata": {
        "id": "NrMeA62la-n_"
      }
    },
    {
      "cell_type": "markdown",
      "source": [
        "![image.png](data:image/png;base64,iVBORw0KGgoAAAANSUhEUgAAA2AAAALECAYAAABuaFPoAAAAAXNSR0IArs4c6QAAAARnQU1BAACxjwv8YQUAAAAJcEhZcwAADsMAAA7DAcdvqGQAAFMgSURBVHhe7d0PmB1VmSD80yFhgzJiB4JBDExmlyzimE4gjD6QEFgGl51dRmRmxZnxAyNIYtwZGX2UIIxJEAR0RdAVE/4alv0cXFdxnJmHT2RJILiuNJDuGRgGBpBk1Awk3aKR8BAwX5/bdUmlU139J33r1r31+/EcuqrufW9V3X5Tt99bVed0/PKXv9wVqLCO5OdQo02LouP3dX0TbbjtGaq+faN9/liN9PplfT8bub157/Vo36+810gb7/OHGsv+wWhyfCIVnZ/tvj7KLO9f1/B2vZYt44sv0vB5Hbf9Zz/7WTjp5FPCT37y08GFA37605+G+fPnhyefeDxZkrefjf53M8rXT/1CRv87SYKGXcXY923oujsG3uCxvwptZLh0HG1aFB2/r+ubaMNtz1D17Rvt88dqpNcv8v0c+pp5rzXR2zvc40ON9PyJfr2hxrt/Q431+TTeaHNgOGP53Y1mXROZCxOdn81+fKixPp92NVwm5GulPBl5W7ds2RIWLFwU3vCG30iWhPDLX24Pr3/968PGRx6qzQ//PhXxXoxyHfWnDfvPO+d1xhMzxHAv0bFz587MV/n1r3+dTGWbNGlSMpVNvPg84sXnEd8+8f/0T/808Fm158fMjBkzkqls8YM/j3jxecSLzyN+dPEvvvjiQMH1y9p02m/91m+F3/iN3UXZUFu2/CyZyub9H4zvGPhgHH0ZBwBj0Nvbm0zt9pa3vCWZyvbP//zPyVS2RsZPmzYtmQKAxsj/GhMAAIAJowADAAAoiAIMAACgIAowACDccMNge+yxZAGMQswXucNYVT1vKtMJR/zlbtgwOL1gQQjHHDM4DSOJB4dI3jAW6WPOBRcM/qwinXC0hjVrBo5v//2M2vT3tp0a3nLhhWHJktosDCvmzT9fe21418H31OZj7nzmHy6sTcNwsvKmasecSpwBi7/or//BteGtt51Ra3E6LoORxDyRN4zVjTcOHHP+85fC0UnurPnqr8MIPbtD0zz+eAhPfXFNOPyAn9Xa4rfcXpuPy2E49byJ+ZLOHXnDSLLypmrHnLY/AxZ/mbecuSYsnTnwF1HK6s0fCp973Nd7DC8rd2LefPDOJeHoo5MFMETMm6+ddWM4//Abw6QwWHXdsPm8cM63loRjjqneVd99fX3J1G7NPMMV5cXPmTMnmaqO1atDePv/+L1w2NTnkiUh/OylQ8Pf/cnfhqVLkwUwRFbeRN/7g255Q64HFu6dN1U75rT9XwPr1oXw7unfSeZ2y1oGaVm5E+fjchjOffeFcMZAntSLr+iM6d8N9w3kjbNglFEcN3ToH0NxfoTxRKm4rLyJ5A0jycqbqh1z2r4AG+4AkbUM0rJyp2oHCMYu5seb9t87b55zyAEABugFEQAAoCAKMAAAgIIowCbYrFmzQkdHR60BAACkKcBGsG7dunDKKaeEr33ta8mSfGeeeWYyBQAAsCcF2AhWrVpVK8IWL14cNm7cmCwd3pVXXplM7e2OO+4In/3sZ5M5AACgahRgw7jrrrtqZ71mzJiRLBksxkYyderUZGpvTz31VLjkkkuSuYkRt7F+2WP8mXWmLu5LfGy4xwEaJY65NbTFcbryWlZMumXFpFtWTLplxdQbADSaAiwRi5T0pYbxjNeHP/zhcNFFF9XmozvvvDOZGjRcUVMvwq666qraz7pPfepTYaLHvY7b+eMf/7g2HX/GbR6q/pzhHgcAAIqhAEvEIqV+qWE8m7Rly5bw0ksvhXnz5iXPGFTvYCO24Yqapckw3qM5YxbVz1ClXzu28Zyt+sAHPpBM7Rb3pS7rcQAAoBgKsMTPf/7zZGrshhY19fvAYgE3GumzWGkjna1avXp1MhXCjh07amfXvvrVryZLso30OAAA0DgKsMSKFSuSqdFbtGhROPLII2uFUPrM1QEHHJA8Y/AerSjvPqz0Gaq0vLNV8fUuvvji2vT73ve+3HvPAACAclCAJZYvX147g1RvdUPv2Uo/Z/369eHZZ59NHskWz25FsQfF+iWLcVn6/rDhek5805velEztKRZf/+E//IfaWbt4uePXv/715JFsF154YTI1eAllVhEIAAA0ngJsgqQLs9jSRU8UC7z0War62asoXfyli7F4D9nKlSuTud3qRV30jne8I5kaXnzN9Lrr960pwgAAoFgKsAapF1LvfOc7az+j0VzmGIuxeD/X6aefXpuPRdjQ3hTT96vVOw1Jt6FnuGLxNXTd8f40PSICAECxFGBD1O/VqosFTVq60MlTP+OUHrw5FlePPPJIMje8GPvtb387mdu7N8WRCrmsnhnrZ9nSZ9hG20kIwHhljbWVNTZXumXFpFtWTLplxaRbVky9AUCjKcCGiIVLVo+E4zW0yJk7d24ylS99yeDQ18gqpoYargOPGJsXBwAANI4CbIglS5YkU2OTPjM2mjNkE6FeiGW1vO7mYxwAAFA8BdgQ9aKmLk6nz0bF6XqRk14+FuONAwAAWpsCbBTS91ylLwccTacasZv4oUYTN5Hq97UVeXYOAADYmwJsFIZe6leXdwlgvWVdCjj0LFtdo4qk+hhkAABAcynAhtGMywSHu/8s6yzaWOQVigAAQHEUYMOIlwnua+EzVsMVSnkdagAAAK1DATaMWAwpfAD2TdZYW1ljc6VbVky6ZcWkW1ZMumXF1BsANJoCDAAAoCAKMAAAgIIowAAAAAqiAAMAACiIAmyMDjvssNoYXQcccECyZGRDx/dauXJl8ggAAFAlCrAxWL16ddiyZUtt+qWXXqr9HI2h43utWrVKEQYAABWkABuDWDjVve9970umRha7tN+xY0c4/fTTkyV7vhYAAFANCrBRSp/9im699dZkanSmTp0avv3tb+9RhAG0u6yxtrLG5kq3rJh0y4pJt6yYdMuKqTcAaDQF2CgNPfsVC6qxqhdh9dh4b9jXvva12jQAAND+FGCjtC9nv9Ji8bV06dLa9I9//OPw4Q9/uDYNAAC0PwXYONTPYN111121s1hjPZN15ZVXhg984AO16bF05gEAALQ2Bdg+WLx4ce0sVv1MVizChnY5n1WcxQJuX86iAQAArUkBtg8++tGPJlODZ7LqBVlanI/Lr7rqqmQJAABQVQqwfRC7l88Su5zftWtXuPDCC5Mlup0HAAAUYA1Rv0cs3utV514vAABAAbaP6sVWXXqA5qGPAVRN1lhbWWNzpVtWTLplxaRbVky6ZcXUGwA0mgJsH5155pnJ1CCdawAAAMNRgO2jiy66KJkalHfWy6DLAABQbQqwfTR37txkKlu6IDPoMgAAVJsCbALknfVasWJFMqUjDgAAqDoF2Cili6yVK1cmU4PqRdbSpUtrP9NiV/X13hCzHgcAAKpDATZK/f394fTTT69NxzG9Ojo6wqxZs2r3dcUiK4779dWvfrX2+FB5jyvKAACgOhRgoxTPgH37298OH/jAB5IlIfz4xz/ep/u68oo2AACg/SjAxiAWYbGb+fQAy+mCDIA9ZY21lTU2V7plxaRbVky6ZcWkW1ZMvQFAoynAxqF+SaEzWAAAwFgowAAAAAqiAAMAACiIAgwAAKAgCjAAAICCKMAAAAAKogADAAAoiAIMgIbJGmsra2yudMuKSbesmHTLikm3rJh6A4BGU4ABAAAURAEGAABQEAUYAABAQRRgAAAABVGAAQAAFEQBBgAAUBAFGAAAQEEUYAA0TNZYW1ljc6VbVky6ZcWkW1ZMumXF1BsANJoCDAAAoCAKMAAAgIIowAAAAAqiAAMAACiIAgwAAKAgCjAAAICCKMAAAAAKogADoGGyxtrKGpsr3bJi0i0rJt2yYtItK6beAKDRFGAAAAAFUYABAAAURAEGAABQEAUYAABAQRRgAAAABVGAAQAAFKQtCrCdO3eGe++9N6xZsyZcfvnlYdWqVa+19etXhS89/bPX2nVP//S1tnLlyj1ajI2vEV8rviYAAMBE6tg1IJluOf39/WH1ravDI796JByx4Ihw1MKjkkf2zZP3Pxk2bdgU1vyXNaGzszNZStUM1OThnAfmJ3O73XZid+0xyHLZZSH88f2/EyaFXydLBt1+4o/CpZ+eFCZV7LqDvr6+ZGq3OBZXnpHG42pk/Jw5c5Kp6nCsYzzkDeP19Gl7501Updxp6T8Fll23LOz/J/uHUy8+dcKKryi+VnzN+Po9PT3JUgAAgH3TsgVYLIxOvvTkcODBByZLJl58/avvvloRBgAATIiWLMDipYdXffuqZK6xFl24qLauuE4AAIB90ZIFWLzva/6Hs68fbYS4rrhOAACAfdFyBVjsnTB2utHISw+HiuuK69QzIgAAsC9argC75ZZbah1kFC2uM64bAABgvFquAMvq0rgozVw3AADQ+lquAJs2bVoyVbxmrhugFcUxt4a2OE5XXsuKSbesmHTLikm3rJh6A4BGa7kCbPbs2bWBkosW1xnXDQAAMF4tV4AtWLAgbNqwKZkrTlxnXDcAAMB4tVwBNmXKlDDv9fPC9m3bkyWNF9cV1xnXDQAAMF4tV4BFSxcvDd1f7U7mGi+uK64TAABgX7RkAdbZ2RmWv2d5MtdY669dX1tXXCcAAMC+6Ng1IJkutTgI8oYNG8ITTzwRnn/++fDqq6+GHTt2hO6N3WHLy1vCQUccFKYdOcpeCkfY422btoUXNr0QzvidM8LUqVOTpSFMnjw5TJ8+vdYZR7wfzCWJ7W3lyhDOeWB+MrfbbSd21x6DLJddFsIf3/87YVL4dbJk0O0n/ihc+ulJYVJLfu01fr29vcnUbiP1Nhh7KszTyPgq9nbrWMd4yBvG6+nT9s6bqEq5U/oCrL+/P3zh1uvD9Tt+EPoXHhrCSUcmjzTRfc+GzvufC08tu92ZsTbmw4XxUIDtSQFWfo51jIe8YbwUYCW/BLGnpyd0fXlxuOKcF0L/JceXo/iKBrYjbk/XlxbXthGAbLHYGdpigZTXsmLSLSsm3bJi0i0rpt4AoNFKXYAtuOfSsPnTc0M45HXJknLZvGJubRsVYQAAwGiUtgCLlx5u/9hxyVx5xW084zsratsLAACQp7QFWLzvq1VsXja7pbYXAABojlIWYLHHw9jpRss45HW17Y3bDQAAMJxSFmCxu/laj4ctJG5v3G4AAIDhlLIA++EPf1ieHg9Ha2B7a9sNAAAwjFIWYK06DksVx48BAABGr5QF2OzZs2uDHbeUge2tbTcAr8kaaytrbK50y4pJt6yYdMuKSbesmHoDgEYrZQG2YMGC0Hn/c8lca4jbG7cbAABgOKUswKZMmRKWHXBCMtcCtr5Y29643QAAAMMpZQEWfXzxsmSq/GZ+5YmW2l4AAKA5SluAdXZ2hgOveSiZK6+4jd89c1VtewEAAPJ07BqQTJdOT09POOPOFWHzR2bXBjsum5mXbQzfffeq0NXVlSyhnaxcGcI5D8xP5na77cTu2mOQ5bLLQvjj+38nTAq/TpYMuv3EH4VLPz0pTCrt116N0dvbm0ztNlJnF7GjjDyNjG/X3mx37twZbrnllvD888+HV199NVk6aN26ELo23VCb3jXwX13PzAvCyScnMwMmT54cpk+fXutwKt7z7LL79hBzI45j+sQTT2Tmx3DSeVMX82do3oxGOrdOOeWUZCnNNN68GI3+23bnTd4xZ1+U/XjV9AKsv78/3HTDTWHLM1vCscccG+bP2fsP3lbS3dsdHn7s4TBj1ozwiYs+kSylFSnAGA8F2J4UYM0Tv8S86ttXhfkfnh8OPPjAZOnE2b5te+j+andY/p7lvohsMbUvuL+zImxeVsIvuLe+WLu1I15dJK+KF3Njx493hM6D2uvKrv4X+sM37vpGOHfpuaXIq6b+KRB/yZ/51GfCwqMXhgved0HLF19R3Ie4L3Gf4v4BQNHi58/Vd18dTr705IYUX1F83fj6cT0+71pH/F0tuOfSsPnTc0t5dVHcps0r5ta2UV4VK77fd9x8R9sVX1HcpyVnL6ntXxnyqqlnwD71Z58K5551bjLXftZ+a204+7yzfYPTopwBYzycAdtTX19fMrVbM89wRXnxc+bMSaZaV7yyZNl1y2rFUVHWXb4ufH3l15M5yirmRteXFtcKnFYQb/Xo+dNb3WdfgJgb8aRILFLa3Zo71oRrvnpNMtccTftTIP6i27n4iuL+rV29travAFCE1beurl12WKSi18f4fOHW6wfvq28R8RLJuM00Xrwd6L2nvzeZa29l2M+mFWDxF10F8ZdclX0FoLnijfOP/OqRhl12OJy4vrhuyu36HT8o52WHwxnY1rjNcqux4vsb+2Jox0sPs8T9bHZONaUAq/+iqyD+kuO+OngA0Gix17IjFhyRzBUrrpty6194aDLVOuI2y63Giu9v7AivSpqdU00pwKr2i4776uABQKPFLqOPWnhUMlesuG5K7qQjk4kWMrDNcqux4vvbDh3hjUWzc6opBVjVftFxXx08AGi0rE5PitLMddPe5FZjVfH9bfY+N+0eMABgYr3zne8MT97/ZDJXrLhuSu6+Z5OJFjKwzXKrseL7G8exrZJm51RTCrA4KnWVftFxX+M+A0AjLViwIGzasCmZK1ZcN+XWef9zyVTriNsstxorvr8PP/ZwMlcNzc6pphRgVftFx3118ACqKI65NbTFcbryWlZMumXFpFtWTLplxdRbq5syZUqY9/p5Yfu27cmSYsT1xXVTbssOOCGErS8mcy1gYFvjNsutxorv74xZM0L/C9UYNinuZ7NzqikFWP0XXQXxlxz31cEDgCIsXbw0dH+12KtMil4f4/PxxcvCzOtb5570mV95orbNNN75F5wfvnHXN5K59laG/WzaPWDxF10F8ZdclX0FoPk6OzvD8vcsD+uvXZ8saay4nrg+yi/mxnffvSoceM1DyZLyitv43TNX1baZxovv87lLzw1rv7U2WdKe4v7F/Wy2phVg8RddlV+ygwcARerq6goXnXZRWHf5uoZdjhhfN75+XE9cH60h/q42nHp5mLlqYzkvRxzYppmXbaxto7wqVny/zz7v7La8FDHu05o71tT2rwx51bFrQDJduJ6enrB29drw3tPf23ajb8df9AG/eYCDRwtbuTKEcx7Ye7iE207srj0GWS67LIQ/vv93wqTw62TJoNtP/FG49NOTwqSmfe3VHL29vcnUbiPdaxXv08rTyPg775wWNjWnD4uGeOml/tDz+Oow+ZhHwn+67NRk6b6JvSz+492bwiuPzQtdRy8NU6e2z+f3WWeFMGdOMjMGMc27u0NL5U7MjR88fn148Ld/EF5616HlGCPsvmfDwmv+TTjh6GUtlVdHHBHC/IE/F8aaO2XNm4ce/HyYeciWcOJxx7b8sFGxI7wHHno4bN46I7zt7eeXJq86VqxoXgEWxQPAo393U1v+oo87/hPJ0nJotwNEo61fH8LNk/fOx/Ne6Q6LFiUzFTDevIli7nzrW8lMRcS8uXHy3gXYh175UVi4qFrVV8yd447rDR0dyYJEmQuwf3rP+8Ih+7ffmDivDHzU/8+fbg19L79Smx5Ox8B/w9lv4KFp+08Os143Ncx/44Fh8tBfbBtYv/WEsOWkPw8XXzcrWTKyKz/6TJhx3xfD297weEvmTsyH7p9vD8+8+NKI+ZEnL3dGks6td3b+RrK0dWx9eVp49BdHjyl3yp43E5UXI9mXvMlT9uNVx1O/e1xTCzCa45vz/zZ88spDk7nhPX1aaxfETKxvzv/r8IkrZoSOEeqI/3rJc+GsH/2ngak9ixCqZ/t/vWngk2bPhClzAfbzs9+VTFFl925dEI679dowd26yIMPGjSE8tPjCcMohG5IlEMIvPt+dmzfRzfPkTdVV7GIY6g6+67O1D488Iz1O9Rx811WhZ2N+URXzpnPgeYovoFV1veHR8OCDycww4uPxeZA2Ut5E8gZnwCqq7+XO8Mj77w4f+lCyIMONN4Zw6jecAWO3wbz5/wbyZvjvbmLezLv934dp+29LllBlb/zLu/Y6A9bMM1xRXvyBH/9gMkWVxUvK/v7c74UP5qTDLbeE8Ntr39WWl6wyfuv+qDs3b6IfLZI3VecMWEX9OnSE/fZLZoYx0uNUz2jzJj4PoFXF+3niva954uPxeZA2Ut5E8gYFWEWN9sMF0mp5c2wyM4zaHyXbfbgArSt2pjBSx0Px8fg8SBtNh1XyBpcgVtQdx/zPUfXUoxMO0u445o6w/Iv/esROOK7+82fCf/77swem3AdWda12CWIkXnwe8eLziBefpx7vDFiFxPt3Ys9OsQfE0XaTGp8bY2Is1bQ7b/5mVMVXdNEXZ4Vv/c5fD8SdlCyhigaPGy5HBYC0jp6enswzYCpY8XnEi88jXnwe8eLziBefR7z4PK0S7wwYAABAQRRgAAAABenYNSCZBoBC9fXtPRaOS1TE5xEvPo948XnKEu8MGAAAQEEUYAAAAAVRgAEAABTEPWAANE2Z7wGbM2dO7ScATCRnwAAAAAqiAAMAAChIpQuwG24YbI89liyAUYj5IncYK3kDAESVvQdszZoQjvnvZ9Smv7ft1PCWCy8MS5bUZmFYMW/++dprw7sOvqc2H3PnM/9wYW0ahhOLrs3XXhfeNe37tfnaMeejHw0XLOkIHR21RZXV29ubTO1WlnFapk2bVvtZNfELgg0bBqcXLBj4rDxmcBpGUs8decNYVPGYU8kzYI8/HsJTX1wTDj/gZ7W2+C231+bjchhOPW9ivqRzR94wkqe+eEP4wOF75s3T18Zjjj6QKJf4JdPX/+Da8Nbbzqi1OB2XwUjSuSNvGK2sY04VVLIAW7cuhHdP/04yNyjOx+UwnKy8ieQNI/n9gbzpCHsWW78//a/C+oHc0Q8tZTHcl0y+oGQkQ3NH3jAawx1zqpA3lSzAtmwJ4bCpzyVzg+J8XA7DycqbSN4wkhn/au+8ibn0L/+SzEAJDPclky8oGUlW7sgbRjLcMacKeaMXRABg2C+ZfEHJSLJyR94wkuGOOVXIGwUYAABAQRRgAAAABVGAAQAAFEQBBkDTxDG3hrY4Tldey4pJt6yYdMuKSbf68wCgERRgAAAABVGAAQAAFEQBBgAAUBAFGAAAQEEUYAAAAAVRgAEAABREAQYAAFAQBRgATZMen6vessbmSresmHTLikm3rJh0qz8PABpBAQYAAFAQBRgAAEBBFGAAAAAFUYABAAAURAEGAABQEAUYAABAQRRgAAAABVGAAdA06fG56i1rbK50y4pJt6yYdMuKSbf68wCgERRgAAAABVGAAQAAFEQBBgAAUBAFGAAAQEEUYAAAAAVRgAEAABREAQYAAFAQBRgATZMen6vessbmSresmHTLikm3rJh0qz8PABpBAQYAAFAQBRgAAEBBFGAAAAAFUYABAAAURAEGAABQEAUYAABAQRRgAAAABVGAAdA06fG56i1rbK50y4pJt6yYdMuKSbf68wCgERRgAAAABVGAAQAAFEQBBgAAUBAFGAAAQEEUYAAAAAVRgAEAABREAQYAAFAQBRgATZMen6vessbmSresmHTLikm3rJh0qz8PABpBAQYAAFAQBRgAAEBBFGAAAAAFUYABAAAURAEGAABQEAUYAABAQRRgAAAABVGAAdA06fG56i1rbK50y4pJt6yYdMuKSbf68wCgERRgAAAABVGAAQAAFEQBBgAAUBAFGAAAQEEUYAAAAAVRgAEAABREAQYAAFAQBRgATZMen6vessbmSresmHTLikm3rJh0qz8PABpBAQYAAFAQBRgAAEBBFGAAAAAFUYABAAAURAEGAABQEAUYAABAQRRgAAAABVGAAdA06fG56i1rbK50y4pJt6yYdMuKSbf68wCgERRgAAAABVGAAQAAFEQBBgAAUBAFGAAAQEEUYAAAAAVRgAEAABREAQYAAFAQBRgATZMen6vessbmSresmHTLikm3rJh0qz8PABpBAQYAAFAQBRgAAEBBFGAAAAAFUYABAAAURAEGAABQEAUYAABAQRRgAAAABVGAAdA06fG56i1rbK50y4pJt6yYdMuKSbf68wCgERRgAAAABVGAAQAAFEQBBgAAUBAFGAAAQEEUYAAAAAVRgAEAABREAQYAAFCQjl0DkumW0d/fH75w6/Xhivn/FMJJRyZLm+i+Z0Pn/c+FZQecED6+eFno7OxMHqCdrFwZwjkPzE/mdrvtxO7aYzCcp047PnSEvQ+1//3EB8OnV3SEjo5kQQX19vYmU7vFsbjyjDRG10TFT5s2rfazKoY7xkWOc+Tx+VhtO3fuDBs2bAhPPPFEeP7558Orr76aPJJv3boQujbdkMwN2jXwX8/MC8LJJycLRmny5Mlh+vTpYfbs2WHBggVhypQpySPl1HIFWE9PTzjjOyvC5mWzQzjkdcnSktj6Ypj5lSfCd89cFbq6upKFtAsfMIyXAmx4CrDyGO4YFznOkcfnYzXVT4hcv+MHoX/hoaU6KfLUsttLfUKkpS5BjMXXgnsuDZs/Pbd8xVc0sE2bV8ytbWPcVgAAaDfx79yuLy8OV5zzQui/5PhyFF/RwHbE7en60uJS/y3eMgVYrLLPuHNF2P6x45Il5RW3MZ6lAwCAdlL6EyIDyn5CpGUKsHiKc/NHZidz5Ve7RBIAANpIq50QiSdxyqYlCrB4c1+8vrSsVXamgW2N2w0AAO2i1U6IxJM4ZdMSBVjsWaV2c1+LidsNAADtoHZyocVOiMSTOGU7KdISBVjs1rI0N/eNQW27AQCgDbTiyYV4Eqds290y94AB0H5il+9DW+wmPq9lxaRbVky6ZcWkW/15AOzphz/8YTLVQk46snTb3RIFWBxULfbr32pq2w0AAG2gVcdHLNt2t0QBFke0joOqtZq43QAA0A5a8uTCfc+WbrtbogCbMmVKWHbACSFsfTFZ0gIGtjVuNwAAtINWPLkQT+KUbbtb5h6wjy9eFmZe3zqdWsz8ig44AABoH7WTCy12QiSexCnbSZGWKcA6OzvDd9+9Khx4zUPJkvKK2/jdM1clcwAA0B5a7YRIPIlTNi1TgEVdXV1hw6mXh5mrNpaz+h7YppmXbaxtY9xWAABoJ612QiSexCmbjl0DkunSuffee2tjaT3//PPh1VdfTZaGsGPHjvB/Nj4Y7ntzXwhHvjFZOk4TsfvPvhCmbvpVOH7yzHDCvOPD1KlTa4sPO+yw2k1/8bpT94O1vpUrQzjngfnJ3G63ndhde4zqigM8xjFGso5XUf9tNw78f/BYsyv5GfXM/FA4+eSOZC6EyZMnh+nTp1fquNHXN3AcH2KkLuBjV/F5Jip+zpw5tZ9VMdwxLnKcI4/Px+rp6ekJZ9y5Imz+yOxSDswcT4jEQrGsJ0RKV4DFX+ja1WvDe09/b+g8qHwV63j1v9AfvnHXN8K5S891dqxF+YBhqHi8uvrOq8OiSxYlSybW9m3bQ/fq7vD1FV9PlrSf3t7eZGq3ogqs4dTjW7W75eFcec2V4ZFfPRKOWHBEOGrhUcnSffPk/U+GTRs2hXmvnxcu/tjFyVKqxudje+rv7w833XBT2PLMlnDsMceG+XOyv6BpFd293eHhxx4OM2bNCJ+46BPJ0uYo1SWI8Y+ZO26+Iyw5e0lbFV9R3J+4X3H/4n4CrS3+O/7c3Z8Liz7VmOIrOvDgA8PJl5wcNm7cmCyB8Yn5uv+f7B9OvfjUCSu+ovha8TXja/tsg/YR/z1/5lOfCQuPXhgueN8FLV98RXEf4r7EfWr28ao0BVissuOZr3PPOjdZ0p7i/sX9jPsLtKb47zee+TrpoyeFsPsKwoa5+jtXZ16qB6MR/9C4+u6rawV9o8TXjutQhEHri/+O2/WESBT3qdknREpTgMVTnPGywyqI+xn3F2hNa762Jhy35LhCiq9o/tL5Yc3aNaHEt+xSUvHLgqu+fVVYdGHjztTWxXXEdfmCEVqbEyKNV4oCLN7AHq8vbccqO0vcz7i/QOuJx6t4H00jzyYMFdcV1xnXDWOx+tbVYf6Hi7t0KK4rrhNoXU6INF4pCrDYe1i8ua9Kqra/0C7i8WrmiTMLO/tVd8SJR4QND2xI5mBkviwAxir+263aCZFmHK9KUYDFrpvb4ea+saja/kK7ePLJJ8NRCyauE4PRip0dxHW7DJHRil8WxB4PixbXGdcNtJ6q/duNJ0Sasc+lKMDcXA60imYerxwrGYv45eZE9ng4WnGdcd1A66nav914QqQZ+1yKAuyd73xnrW/+Kqna/kK7eMc73hGe3PBkMlecON5SXHdHR8HXPjZYHHNraIvjdOW1rJh0y4pJt6yYdKs/DwAaoRQF2IIFC2oDo1VJ1fYX2kU8Xm1+YHMIBV8JuOmBTWHBiQuSORjZ7Nmza4V70eI647qB1lO1f7vxhEgz9rkUBdiUKVNqo1L3v1CNrmvjfsb9BVpPPF7Ne/28sH3b9mRJ48V1xXXGdcNoxS8LNm3YlMwVJ64zrhtoPVX7txtPiDRjn0tRgEXnX3B++MZd30jm2lvcz7i/QGta8oEl4aE1DxV2Fqx7dXdYcu6Strv8kMbyZQEwVvHfbtVOiDTjeFWaAqyzszOcu/TcsPZba5Ml7SnuX9zPuL9Aa4r/fi8686Jw33X3FVKEXfTui8K0adOSORi9pYuXhu6vFnfPcVxXXCfQupwQabzSFGBRV1dXOPu8s8OaO9a0XfUd9yfuV9y/uJ9Aa4v/jj952ifD+s+uT5ZMvHg2Yd0V68LcuXOTJTA28cuC5e9ZHtZf27g8rYvriOvyBSO0NidEGq/j5pt37dpU/CXiuV56qT88+nc3hff9+ze3/HhZ8ea+Bx56OGzeOiO87e3nh6lTy/XBdNZZIcyZk8yMQW/vwL51h1C23Gmk9QN/v9w8ee98PO+V7rBoUTJTEUccEcL8gbdirLnTjnlTO15NWhL+7WlHTFiX37ETg3/8/qbwyqPzQtfRSwaOG+1x9isrb7K61h+pB8LYU2GeiYqfM56DY0n19PSE78/4fsMGZY5fFvzult/1BWNFrVwZwjkP7P35eNuJ3bXHaD3xmLF29drw3tPf23YDM8eTIgf85gFNPV51/N+TTtt1yP7lHFvmh/2/DM+8+FLoe/mV8EqDBh/tGPivUab/q8lh1uumhvlvPDBMLum9G+u3nhC2nPTn4eLrZiVLRnblR58JM+77YnjbGx4PZc0dGmvry9PCo784eky5c9WFz4Q3rb92IG/+oe3yJh6fun++fVTHq7xjzn4DD03bv/zHjfF6LW8WXhiWX/dbIe5emQuw7u45bfVlwf/deGWYfMwjE/9lwd2bwiuPzQvvmHtxsrT1+ZJpbHxBuVs7fbFdPyEy85At4cTjjm2rkyLHHf+JZGlzdDz1u8cV3JkyZXTv1gXhuFuvDXlXOm3cGMJDiy8MpxxSrVHSyfeLzz0Y5s4bvlCo5c0H/zyccvD9yRIIYd3WE8Oxt1wbJu33d8mS3YoqsIZTj//52e+q/aTavjn/b8Mnrzw0mRve5y5+Lvxh9+8lc1SdvCFPqe4Bo3m63vBoePDBZGYY8fH4PEh7cIT7+2t58xvyhj3NecNjA7nh+z/K7+C7Plv7IilPfDw+D+rkDXkUYNT8OnSE/fZLZoYRH4/PgzR5w3iM5pgDZeALSsZD3pBHAUZNvC8jXu+eJz4enwdp849LJoZRy5tfyhv29Ngv/u1AbijMKT9fUDIe8oY8CjBqYmcKI900Gh+Pz4O0t8/J//CIefMvJ104MOVDht22DOTESLkDZeALSsZD3pBnUt/Lxuuostj5RrxRdLQ92cXnxefHOLlTXfF3P5g7f1PryW4ky6+dFf7X8X8zELNQ3lTYa3lz3N+Ei67916PKHWg2X1AyHvKGPB033LBr109+ksxROWeeGXJ7PhxOvHE0Xrssd6rp8MNDOP74seeOvKm2rLzpjX0vD1GWXhCffs/ZYdr+/bVpqiV+WdDzi7eFbad/alQ92dXdPO/C2j098qa64pdMY82b2BNi7IxD7lRHx64ByTQAFKrMBdj/+l/TfFlQUb5kYrx8sc1odGzbtm3XtGnTklkAaKyswZfTiiqwhiNefB7x4vOIF5+nHq8TDgAAgIIowAAAAAqiAAMAAChI5Quwxx4L4YYbBluchtGq5468YSwccwCg2ipdgK1ZE8LX/+Da8Nbbzqi1OB2XwUjSuSNvGK1YdH39D6/b85izWke0AFAllS7AnvrimrD4LbeHww/4Wa3F6bjs8ceTJ0CGmB/p3JE3jMZg3twQPnD4nsecp69VvQNAlVS6AHv39O8kU7vFZevWJTOQIebH0NyRN4xk/foQfn8gTzrCnme8fn/6XwWjMQJAdXT09PTsmjNnTjJbLU+fNj+Z2tNtJ3aHlSuTGRgi5sY5D+ydO/KGPKtWhfD+DcfvVYBFs77XHTo6kpkKyBp8Oa2M47wYLxOAiaIXRAAAgIIowAAAAAqiAAMAACiIAgwAAKAgCjAAAICCKMAAAAAKogADAF7z2GMh3HDDYIvTMFr13JE3jEUVjzkd27Zt21XV8U2MA8Z4GAeM8TAO2G59fX3JVLZmjPOVlhVfhfEyH388hFvOXBOWzrwxWTJo9eYPhQ/euSQcfXSyAIbIyh15w0iGO+a8/OXuts8bZ8AAgLBuXQjvnv6dZG63uCw+BsPJyh15w0iGO+ZUIW8UYABA2LIlhMOmPpfM7RaXxcdgOFm5I28YyXDHnCrkjQIMAACgIAowAACAgijAAAAACqIAAwAAKIgCDAAAoCCTRhovBQAmUvzcyWtxnK68lhWTblkx6ZYVk25ZMQAwUZwBAwAAKIgCDAAAoCAKMAAAgIIowAAAAAqiAAMAACiIAgwAAKAgCjAAAICCTDK+CQBFGjrG1tCWNTZXumXFpFtWTLplxaRbVgwATBRnwAAAAAqiAAMAACiIAgwAAKAgCjAAAICCKMAAAAAKogADAAAoiAIMAACgIJOMbwJAkYaOsTW0ZY3NlW5ZMemWFZNuWTHplhUDABPFGTAAAICCKMAAAAAKogADAAAoiAIMAACgIAowAACAgijAAAAACqIAAwAAKMgk45sAUKShY2wNbVljc6VbVky6ZcWkW1ZMumXFAMBEcQYMAACgIAowAACAgijAAAAACqIAAwAAKIgCDAAAoCAKMAAAgIIowAAAAAoyyfgmABRp6BhbQ1vW2FzplhWTblkx6ZYVk25ZMQAwUZwBAwAAKIgCDAAAoCAKMAAAgIIowAAAAAqiAAMAACiIAgwAAKAgCjAAAICCTDK+CQBFGjrG1tCWNTZXumXFpFtWTLplxaRbVgwATBRnwAAAAAqiAAMAACiIAgwAAKAgCjAAAICCKMAAAAAKogADAAAoiAIMAACgIJOMbwJAkYaOsTW0ZY3NlW5ZMemWFZNuWTHplhUDABPFGTAAAICCKMAAAAAKogADAAAoiAIMAACgIAowAACAgijAAAAACqIAAwAAKMgk45sAUKShY2wNbVljc6VbVky6ZcWkW1ZMumXFAMBEcQYMAACgIAowAACAgijAAAAACqIAAwAAKIgCDAAAoCAKMAAAgIIowAAAAAoyyfgmABRp6BhbQ1vW2FzplhWTblkx6ZYVk25ZMQAwUZwBAwAAKIgCDAAAoCAKMAAAgIIowAAAAAqiAAMAACiIAgwAAKAgCjAAAICCdGzbtm3XtGnTktlqefq0+cnUnm47sTusXJnMwBAxN855YO/ckTfkWbUqhPdvOD50hF3Jkt1mfa87dHQkMxXQ19eXTGWLY3HlGWlcrkbEz5kzJ5lqX8Md2yLHN/L4XGQ4O3fuDBs2bAhPPPFEeP7558Orr76aPBLCunUhdG26IZkLA5+Og5+PPTMvCCefXJt8zeTJk8P06dPD7NmzwymnnJIsbV3OgAEAABOip6cn/NHKPwpf+JcvhFs6bglPLHwihPNCmL58ephxyYzX2vvunhHe+o+ffq0d848rau2Pvn9YOOzSPVuMja8RXyu+bnz9uJ5WpQADAAAmxNV3Xx1OvvTkcODBByZLJlZ83fj6cT2tWoQpwAAAgH3W398fFl24KJlrrLieq759VW2drUYBBgAA7LPVt65Opoox/8PzC1/nRFCAAQAA+yR2uPHIrx5J5ooRL0eM64zrbiUKMAAAYJ/E3g6PWHBEMlecuM647laiAAMAAPZJ7Gr+qIVHJXPFieuM624lk0YaLwUAJlL83MlrcZyuvJYVk25ZMemWFZNuWTEA5BtpjMdGaua6x8MZMAAAYJ+8853vDE/e/2QyV5y4zrjuVqIAAwAA9smCBQvCpg2bkrnixHXGdbcSBRgAALBPpkyZEua9fl4yV4zt27bX1hnX3UoUYAAAwD5bunhpMlWM7q92F77OiaAAAwAA9llnZ2dYf+36ZK6x4nqWv2d5bZ2tRgEGAABMiItOuyisu3xd7fLARoivG18/rqerqytZ2lo6enp6ds2ZMyeZrZanT5ufTO3pthO7w8qVyQwMEXPjnAf2zh15Q55Vq0J4/4bjQ0fYlSzZbdb3ukNHRzJTAb29vclUtpG6fY9dxedpRPy0adOSqfY13LEtcnwjj8/Fatu5c2dtIOQ4Ftfzzz8fXn311bBjx47QvbE7bHl5SzjoiIPCtCNHeQzd+yNyD9s2bQuv+9nrwvx588PUqVOTpSFMnjw5TJ8+PcyePbvWIUfZ7wnr2LZt264qfLBkUYAxHj5oGA8F2G4jjdfSjAIrLSu+Cl9UDndsixzfyONzsZr6+/vDF269Ply/4wehf+GhIZx0ZPJIE933bOi8/7nw1LLbS31poksQAQCAUenp6Qm/cc0ZYVrndeGKj+0M/ZccX47iKxrYjrg9cdviNsZtLSMFGAAAMCpn3LkibP/YcclcecVtPOM7K2pn6sqm9JcgZl1XOlH6b7shmYqXnO6+LKhn5gXh5JOTmX3UatekVknMrVtuuWXMebVuXQhdm/bOnfHkTcyPE088UW60ibzj1WDe3DgwNZgv6WNO5/9zQTI1qN2PGy5BLCeXIDJeLkGslo6tnwzhkNclcyW39cVwyW0Hhcs/dkmyoBxKXYB9/urPhy3PbAnHHnNsmD8n+0OhVXT3doeHH3s4zJg1I5x/wfkt2WVmu9jjmuV42rzZkuuVlx1wQvj44mVyowXFnFrztTXh4e0PhyMWHBGOWnhU8si+efL+J2sj/K/+yOq26gRCAVZOCjDGSwFWHfGLxv2nXJHMtYbOKx4M//LJO0v1ZWZpL0GM12wuPHphuOB9F7R88RXFfYj7EvfpM5/6TGmvSW138X3v+vLicMU5L5Sj+IqS65XjNnV9abHcaEEf+dJHwpQ/mhJOvfjUCSu+ovha8TU/8uWPhI0bNyZLAaA54lUerSZ2EFK27S5lARb/AL3j5jtC50HtdyYg7tOSs5fU9o9ixbxacM+lYfOn55bz1PnANm1eMbe2jYqw1hF/V4s+tSgceMiByZKJd/IlJ4fP3fM5RRgATRUvsW85Jx1Zuu0uXQEWL+VZu3ptOPesc5Ml7SnuXxlvCmxX8b1utZtG++RH6cW8uvrOq0MooAv5RR9dFK7+ztUjXr4HAI3Sqp9BZdvuSSNdK1+0m264Kbz39Pcmc+0t7ivFiPd8bf7I7GSu/DYvmx2uGdhmyi3e93XckuKK+vlL54c1a9eEXbv2HkuslcTPnbwW79HKa1kx6ZYVk25ZMemWFQNA6w5KX7btLtUZsHhjX+x0ox0vPcwS9zXuM40V3+PY4UbL9NgTDWxr3OaX5Udpxbx65FePhAMPbtylh0PFdcV1Om4A0Ayxd96Wc9+zpdvuUhVgsUvw2FFFVcR9jftMY8X3uDQdboxB3OZb5Udp3XrrreHfXfTvCrn8MO3U5aeGW792a8ufBQOg9Zxyyim1rt1bRuyGvvvfDG53iZSqAKvivQ3u52i8Vn6P5Ud5NfN3Iy8AaJaZ17dORxwzv/JEbYifsilVAdZO49yMVhX3uWit/B7Lj/Jq5u9GXgDQLN9996pw4DUPJXPlFbfxu2euKuX4qqUqwOL1mXHA4qqI+9qS19K2mNp7fN+zyVwLKeE1y+x21FFHhSc3PJnMFScOzhzX3dFR8LWPADCgq6srbDj18jBz1cbSXo4487KNtW2M21pGHT09PbvKMsJ/vLF8+Z8ur8x9YDf85Q3hqi9fVaqRudtRzKs3fe7MlrsPLI7cvuWTd4b95Ucpxbx6/9XvL/w+sHuuuifc/snbw/77758saT29vb3JVLaReh2MPRXmaUR8Fc46rlwZwjkPzE/m9nTbid21xyHLcLkjb9pD/LyLAxnHsbSef/758Oqrr9aW79ixI/yfjQ+GB3duDjuOfH0IR76xtnzcJuLe5mdfCFM3/Sp89PizwtSpU2uLJk+eHKZPn177UnvBggWl+Lu7VAVY9PmrPx8WHr2wEj0h/tX//avwiYs+kczRSJdec0W44pwXWqcnxHjT6G0Hhcs/dkmygDK66otXhSl/NKWhgzCnbd+2Pbz8/74cll+4vKXPgCnAykkBxngpwNpTHOsyDpkUe+0+9phjw/w52ceHVhGvPHv4sYfDjFkzmv73d8e2bdt2lemDJf6yP/Opz4QlZy9JlrSvQ7sOLeV1qe0o5lXXlxeHzZ+emywpt3haf+Of3RqmyY9Si3n1kS99JCy6ZFGypLHWXbEufOVPv9LyxcBInYg0o8BKy4ov0xeVjaIAY7wUYO2np6cnrF29tjY2b7udFOl/oT8c8JsHNPXyxFLdAxbFguTcpeeGtd9amyxpT3H/FF/Fie91q900qvgqv5hXF515UQgF9Ai//rr14aJ3X6QDDgAaKhZfd9x8R+1kSDtekRb3Ke5f3M9mqZ0B++d/nha6u0PYtClZWhIPPfj5MPOQLeHE49rjtOcDDz0cNm+dEd729vPD1KnlSegjjghh/sDbO54veOMwVWXLm5G89FJ/+MHj14cHf/sH4aXLS3Bf2H3Phqnfey4c//cnhBOOXlaq3BhJzJ0PfjCZGYN4BVoZjznjFXOq5/E1YfIxD4d/e9oR4aiFRyWP7JvY4cY/fn9TeNurqwfyon0Krz/7M2fAysgZMMbLGbD28sPv/LAStwLFM2H3P35/Uy5HrBVg3zl1ZXjbGx4Ph+xfvrFlXtm1K3T/fHt45sWXQt/Lr9TmG6GjQXfR7zfwstP2nxxmvW5qmP/GA8PkEt63sfXlaeHRXxwdtpz05+Hi62YlS0d25UefCaduXFLKvBmNmEv/86db9zmv9iV3Yn4cN5AXZc2NkcTcuWfumnDxtQN5M8rNv+rCZ8Kb1n+xtMecfTGW41Ve3rTCcWNfvPGO7yVT2RRgzaEAY7wUYO0jdrjx9ANPJ3Ptr1kd4tUKsJ+f/a5klqr75vy/DZ+88tBkbnifu/i58Ifdv5fMUXXfnP834ROffVMYqU74/KeeC3/w4H8cmCrgmj1KSwFWTgowxksB1j7uvffe8OaONydz7S9eofbmt785nHLKKcmSYpTuHjCa6+C7Phs2bkxmhhEfj8+DuoPvujL0bMwvqmLeTBt4nuILAMopdjVfJfEWp2bsswKMPXS94dHw4IPJzDDi4/F5UFfLmxHGUK/lzW/IGwAoq5F6qW1HzdhnBRh7+HXoCPvtl8wMIz4enwd18gYAWl8Ve9ptxj5PGulaeaoldsYRe0TMEx+Pz4O6Wt4cl8wMo5Y3v5Q3DN5jldfiPVp5LSsm3bJi0i0rJt2yYgCqYPbs2clUNcR7wJqxz86AsYfYE+JI95rHx+PzoG7LSReGt8/JP7sV8+ZfBp436u4SAYBCLViwIJmqhocfe7gp+9zR09Oz69e/nlO7P+MnP0mWUimHHx7C8ceHMHdusmAMbrxR3lRZzJ0PfSiZGYPYIYdjTnWddVZvMpVtpDNO8SxVnkbEV+GyHL0gMl56QWwvH/vwx2qDMLe7NXesCX/x2b8InZ3Fj3lWK8CS6T2U8QMwTbz4POLF5xEvPk9WvALMH9IMTwHWXgZqg3DHzXeEc886N1nSftZ+a204+7yzQ1dXV7KkWC5BBAAAamJREouTeIao/4X+ZGn7iPvUzOIrcgZsGOLF5xEvPo/49ov/0pfa/wzY+vUh3Dw5+wzYea90h0WLkpkKOOKIwY6Dxjr+dm9vCN3dIWzalCyoiOFyp2p5E5111tjzJipj7rz0Un949O9uCjMP2RJOPO7Y2phZrSx2uPHAQw+HzVtnhOOO/0SytDkUYMMQLz6PePF5xLdf/M/PflcyRRVsfXlarXfX2OHUxdfNSpaO7NZ5fxbe9obHwyH7V28sJQat33rCmPPmyo8+E2bc98XS5s4ru3aF7p9vD8+8+FLoe/mV2nwjdDSok679Bl522v6Tw6zXTQ3z33hgmNzR/M7AOnYNSKbb3mOPhbBhw+B07PDkmGMGpyGPvGG86rkjbwbVB7tUgNFKvjn/b8Mnrzw0mRve5y5+Lvxh9+8lc1SdvCFPZQqwNWsGPnSvvTa86+B7avPf23Zq+Mw/xC6xId9fvHXPvHnLhReGJe3fORD7KH3MkTeDeuM1NgPKWGClZcUf+PEPJlNUzb1bF4Tjbr02t6fg2LPrQ4svDKccknxbR+XJG/JUohOOxx8P4akvrgmL33J7OPyAn9VanI7LIU/MkaF5E3NJ7pBn6DFH3kDr6nrDo7VhM/LEx+PzoE7ekKcSBdhf/mUIS2femMztFpdDnqwcibkkd8iTdcyRN9Ca/u4Xbw3veEcyM4z4eHwe1Mkb8uiGHgBgGLFDhZF6tYuPx+dBnbwhjwIMACCl7+XO2j08sSOF0fZmF58XY2Is1TWevInPlzvVUolOOIzQznjJHcZD3mRr5U44vvWtcQzsQ8s6/PAQjj8+5HagkCV2qhDv6/nJT5IFVM6ZZ449byK5Uy0KMH9Ek0PuMB7yJlsrF2BzxjOyKgBkUID5I5occofxkDfZWrkASxMvPo948XnEi48UYP6IJofcYTzkTbZWHog5Tbz4POLF5xEvPtIJBwAAQEEUYAAAAAVRgAEAABREAQYAAFAQBRgAAEBBFGAAAAAFUYABAAAUxDhgxnIih9xhPORNNgMxDxIvPo948XnEt0e8M2AAAAAFUYABAAAURAEGAABQEAUYAABAQRRgAAAABVGAAQAAFEQBBgAAUBDjgBnLiRxyh/GQN9n6+vpqP40TIz6PePF5xIvP0yrxzoABAAAURAEGAABQEAUYAABAQRRgAAAABVGAAQAAFEQBBgAAUBAFGAAAQEGMA2YsJ3LIHcZD3mTr7e2t/TROjPg84sXnES8+T6vEOwMGAABQEAUYAABAQRRgAAAABVGAAQAAFEQBBgAAUBAFGAAAQEEUYAAAAAUxDpixnMghdxgPeZOtr6+v9tM4MeLziBefR7z4PK0S7wwYAABAQRRgAAAABVGAAQAAFEQBBgAAUBAFGAAAQEEUYAAAAAVRgAEAABTEOGDGciKH3GE85E223t7e2k/jxIjPI158HvHi87RKvDNgAAAABVGAAQAAFEQBBgAAUBAFGAAAQEEUYAAAAAVRgAEAABREAQYAAFAQ44AZy4kccofxkDfZ+vr6aj+NEyM+j3jxecSLz9Mq8c6AAQAAFEQBBgAAUBAFGAAAQEEUYAAAAAVRgAEAABREAQYAAFAQBRgAAEBBjANmLCdyyB3GQ95k6+3trf00Toz4POLF5xEvPk+rxDsDBgAAUBAFGAAAQEEUYAAAAAVRgAEAABREAQYAAFAQBRgAAEBBFGAAAAAFMQ6YsZzIIXcYD3mTra+vr/bTODHi84gXn0e8+DytEu8MGAAAQEEUYAAAAAVRgAEAABREAQYAAFAQBRgAAEBBFGAAAAAFUYABAAAUxDhgxnIih9xhPORNtt7e3tpP48SIzyNefB7x4vO0SrwzYAAAAAVRgAEAABREAQYAAFAQBRgAAEBBFGAAAAAFUYABAAAURAEGAABQEOOAGcuJHHKH8ZA32fr6+mo/jRMjPo948XnEi8/TKvHOgAEAABREAQYAAFAQBRgAAEBBFGAAAAAFUYABAAAURAEGAABQEAUYlbZz585w7733hjVr1oTLL788rFq1ao+2fv2q8KWnf1Zr1z3909faunUrw8qVu1uMja8RXyu+JgAAZDEOmLGcKqu/vz8s+W9LwhELjghHLTwqWbpvnrz/ybBpw6Yw7/XzwtLFS0NnZ2fyCFXimJOtt7e39tM4MeLziBefR7z4PK0S7wwYldTT0xOWXbcsnHrxqRNWfEXxteJr7v8n+9deP64HAADqFGBUTiyKrr776nDypScnSybegQcfWHv9uB4AAKhTgFEpV15zZfj+jO+HRRcuSpY0VlxPXCcAAEQKMCojdo7xyK8eqZ2dKlJcp445AACIFGBUxoYNG2odbhQtrjOuGwAAFGBUxhNPPDGhHW6MVlxnXDcAACjAqIy+vr5kqnjNXDcAAOVhHDDjgFVGHCg5nJfMFO3mEJYsWZLM0O4cc7LVv4gwToz4POLF5xEvPk+rxDsDRmXMnj27NlBy0eI647oBAEABRmUsWLAgbNqwKZkrTlxnXDcAACjAqIwpU6aENf9lTVh3+bpkSTHiOuO6AQBAAUaldHZ2huXvWR7WX7s+WdJYcT1xnQAAECnAqJyurq5w0WkXNfRM2PZt22uvH9cDAAB1peoFcefOnbUBa+OYSc8//3x49dVXk0f2zbqBv7O7Nt2QzIWwa+C/qGfmBeHkk2uTE2Ly5Mlh+vTptQ4X4j0/Ljsrh+HyaseOHeGvf/TX4aAjDgrTjpxWWzaiEf61bNu0Lbyw6YVw2JTDwvx588PUqVNry+VGtegFMZteEAeJF59HvPg84tsjvhQFWH9/f7jphpvClme2hGOPOTbMn7P3Hy6tpLu3Ozz82MPh0isvdflZk116zRXh+h0/CP0LDw3hpCOTpU1037Oh8/7nwrIDTggfX7xMfrQpBVg2Bdgg8eLziBefR3x7xDe9AOvp6QlrV68N7z39vaHzoPb6Y3TNHWvCuUvPrV3yRvFibs09/H+EcMjrkiUlsvXFMPMrT4TvnrlKfrQhBVi23t7e2k8f0OLziBefR7z4PK0S39R7wOIfyHfcfEdYcvaStiu+orhfcf/iflKs+J4vuOfSchZf0cB2bV4xd3AbAQCojKYWYPHM17lnnZvMtae4f3E/42WWFCO+12fcuSJs/9hxyZLyitsoNwAAqqNpBVjsGCGeIaqCuJ+XX3x5bZ9prPge/+vr3187u9Qq4vbKDQCAamhaARZ7pauS2LlI1fa5GeJ7XOtwo4XE7ZUbAADV0LQCLHYJXiWxZ8eq7XMz1N7jMvR2OBYD2ys3AACqoWkFWL074iqp4j4XrVXfY7kBAFANTSvApk0b5cC3baSK+1y0Vn2P5QYAQDU0bRywe++9N7y5483JXPuLgzO/+e1vDqecckqyhEaIefXv9ruttS5DvO/Z8L9fPUdutBHjgGUzEPMg8eLziBefR3x7xDftDNiCBQuSqWp4+LGHK7fPzRDf4877n0vmWkPcXrkBAFANTSvApkyZEvpfqMb4R3E/Z8yaUdtnGiu+x8sOOCGErS8mS8ovbq/cAACohqYVYNEBv3lAWPuttclce4r7F/fzExd9IllCo13+sUvCxp/8STjwmoeSJeUVtzFuLwAA1dDUAqyrqyucfd7ZYc0da9rybFjcr7h/cT8pVnzPN5x6eXnPhA1s18zLNg5uIwAAldGxYkVzOuFIe+ml/vDo390UZh6yJZx43LG1MbNaWexw44GHHg5vOOzSMHVqZ7K0HI44IoT5A2/vnDnJglHq7R3Yr+4QNm1KFrSI/73xivDgb/8gvPSuQ8vRMcd9z4ap33suHP/3J4QTjl5WuvwYznjzJrrlltbLm321fn0IN0/e+zh23ivdYdGiZKYi0rmjE45B4sXnES8+j/j2iO946nePa3oBVvfKQC3Y/fPt4ZkXXwp9L79Sm2+EjoH/GmG/gZedtv/kMOt1U8P8Nx4YJnc0Zj37YuvL08Kjvzg6bDnpz8PF181Klua78qPPhBn3fTG87Q2Ph0P2b73xqiYqr/Ylb1ohN/KMJ2+imDunblzSknnDxKjnzuJHvqQAS4gXn0e8+Dzi2yO+VAUYxfrm/L8Nn7zy0GQu2+cufi78YffvJXMwuryJ5A5pMW/O/8Tk2rQPYPF5xIvPI158nlaJV4BV2L1bF4TzHrk2mct287wLwymHbEjmYDBvjrv12jB3brIgw8aNITy0WO6wW8yb49d+sDbtA1p8HvHi84gXn6dV4pvaCQfN1fWGR5Op4Y3mOVRLzIkHH0xmhhEflzukyQcAGKQAq7Bfj+KeptE8h2qJObHffsnMMOLjcoc0+QAAgxRgFXbP3DXJ1PBG8xyqJebEBwevJBtWfFzukCYfAGCQAqxi+l7urN2LEW+IH01vdvE58bkxJsZSTWPNm6ieO/Km2uq5M5beMwGgnZViHDCKc/jhIRx/fMjtQCFL7FQh3tfzk58kC6iU8eZNdOON8qbK0rnTGwcUHOAmbPF5xIvPI158nlaJ79g1oDYFAA2kABskXnwe8eLziG+P+EpegrhmTQh/8dZrw/0Lzqj9jPMwknTeyB3GQt4MmjNnTq0BQJVV7gzY44+HcMuZa8LSmTcmS0JYvflD4YN3LglHH50sgCGy8iaKufO5x5ckc7C3mDv7/+n8ZG5Q1Y859TNhw/ENqfg84sXnES8+T1niK3cGbN26EN49/TvJ3KA4H5fDcLLyJspaBmlZxxbHHACorsoVYFu2hHDY1OeSuUFxPi6H4WTlTZS1DNKyji2OOQBQXbqhBwAAKIgCDAAAoCAKMAAAgIIowAAAAAqiAAMAAChI5cYBW7kyhHMe2HNMnui2E7trj0GW4fIm+q27u5Mp2Jtjzt76+vqSqWzGiRGfR7z4POLF5ylLvDNgAAAABVGAAQAAFEQBBgAAUBAFGAAAQEEUYAAAAAVRgAEAABREAQYAAFAQ44AljANGHuOAMV6OOXvr7e1NprIZJ0Z8HvHi84gXn6cs8c6AAQAAFEQBBgAAUBAFGAAAQEEUYAAAAAVRgAEAABREAQYAAFAQBRgAAEBBjAOWMA4YeYwDxng55uytr68vmcpmnBjxecSLzyNefJ6yxDsDBgAAUBAFGAAAQEEUYAAAAAVRgAEAABREAQYAAFAQBRgAAEBBFGAAAAAFMQ5Ywjhg5DEOGOPlmLO33t7eZCqbcWLE5xEvPo948XnKEu8MGAAAQEEUYAAAAAVRgAEAABREAQYAAFAQBRgAAEBBFGAAAAAFUYABAAAUxDhgCeOAkcc4YIyXY87e+vr6kqlsxokRn0e8+DzixecpS7wzYAAAAAVRgAEAABREAQYAAFAQBRgAAEBBFGAAAAAFUYABAAAURAEGAABQEOOAJYwDRh7jgDFejjl76+3tTaayGSdGfB7x4vOIF5+nLPHOgAEAABREAQYAAFAQBRgAAEBBFGAAAAAFUYABAAAURAEGAABQEAUYAABAQYwDljAOGHmMA8Z4Oebsra+vL5nKZpwY8XnEi88jXnyessQ7AwYAAFAQBRgAAEBBFGAAAAAFUYABAAAURAEGAABQEAUYAABAQRRgAAAABTEOWMI4YOQxDhjj5Zizt97e3mQqm3FixOcRLz6PePF5yhLvDBgAAEBBFGAAAAAFUYABAAAURAEGAABQEAUYAABAQRRgAAAABVGAAQAAFMQ4YAnjgJHHOGCMl2PO3vr6+pKpbMaJEZ9HvPg84sXnKUu8M2AAAAAFUYABAAAURAEGAABQEAUYAABAQRRgAAAABVGAAQAAFEQBBgAAUBDjgCWMA0Ye44AxXo45e+vt7U2mshknRnwe8eLziBefpyzxzoABAAAURAEGAABQEAUYAABAQRRgAAAABVGAAQAAFEQBBgAAUBAFGAAAQEGMA5YwDhh5jAPGeDnm7K2vry+ZymacGPF5xIvPI158nrLEOwMGAABQEAUYAABAQRRgAAAABVGAAQAAFEQBBgAAUBAFGCR27twZ7r333rBmzZpw+eWXh1WrVr3W1q9fFb709M9ea9c9/dPX2sqVK/doMTa+Rnyt+JoAAFCnAKPy+vv7w5XXXBn+5Ko/CX8z8F84L4Tpy6eHGZfMeK297+4Z4a3/+OnX2jH/uOK1dtilh+3RYmx8jfha8TXj6wMAQGQcsIRxwKqpp6cnXPXtq8L8D88PBx58YLJ0Yq27fF1Y/p7loaurK1lClTjm7K23tzeZymacGPF5xIvPI158nrLEOwNGpV1999Xh5EtPbljxFcXXj+uJxR4AANWmAKOy4qWBiy5clMw1VlxPPNPmckQAgGpTgFFZq29dnUwVI17mWPQ6AQAoFwUYlRR7KNw2b1syV4x4mWNcZ1w3AADVpACjkp544olw1MKjkrnixHXGdQMAUE0KMCqpr68vmSpeM9cNAEBzKcCopGnTpiVTxWvmugEAaC7jgCWMA1Yt8T6sOFBy0ZchPnn/k+E/Dvx3yimnJEtod445exvpLLBxYsTnES8+j3jxecoS7wwYlbRgwYKwacOmZK44cZ1x3QAAVJMCjEqaMmVKmPf6eclcMbZv215bZ1w3AADVpACjspYuXppMFaP7q92FrxMAgHJRgFFZnZ2dYf2165O5xorrWf6e5bV1AgBQXTrhSOiEoxp27twZNmzYUBuL6/nnnw+vvvpq2LFjR+je2B22vLwlHHTEQWHakaPspXCEfznbNm0LL2x6IZzxO2eEqVOnJktDmDx5cpg+fXqYPXt27X4wlyQ2X1ZeTJR160Lo2nRDbXpXKml6Zl4QTj45mdlHrZZTOuEQn0e8+DzixedplXgFWEIB1t76+/vDF269Ply/4wehf+GhIZx0ZPJIE933bOi8/7nw1LLbnRlropgbl198eTj2mGPD/Dl7HxtaSXdvd3j4sYfDjFkzwvkXnF/avFKAic8jXnwe8eLztEq8SxBpez09PaHry4vDFee8EPovOb4cxVc0sB1xe7q+tLi2jRQvvu+f+dRnwgXvu6Dli68o7kPcl4VHL6ztl7wCgPJxBizhDFh7in+ALrjn0rD9Y8clS8rpwGseChtOvTx0dXUlS2i0mBt33HxHOPesc5Ml7Wftt9aGs887u3R51dvbm0xl8w2p+DzixecRLz5PWeKdAaOtnXHnitIXX1HcxjO+s6J2ORyNF9/ntavXtnXxFcX9i/sprwCgPBRgtLXNH5mdTJXf5mWza/ep0Xg33XBTeO/p703m2lvcz7i/AEA5KMBoW7Fnu3DI65K5FjCwrbGTkNp20zDx/d3yzJbQeVA1Oj6J+xn3FwAoBwUYbSt2K95qYg+NrbjdrSS+v7HHwyqp2v4CQJkpwGhbP/zhD5OpFnLSka253S0kvr/t0OPhWFRtfwGgzBRgtK1p00Y5oHLJtOp2twrvLwDQTAow2tbs2a3TAcdr7nu2Nbe7hcT3Nw5YXCVV218AKDPjgCWMA9Z+YmcL+0+5IplrDZ1XPBj+5ZN3hilTpiRLmGgxL5b/6fLagMVVccNf3hC+sPoLyVzz9fX1JVPZjBMjPo948XnEi89TlnhnwGhbtSJm64vJXAsY2NZlB5yg+Gqw+P7OmDUj9L9QjbGx4n7G/QUAykEBRlubef0TyVT5zfzKE+Hji5clczTS+RecH75x1zeSufYW9zPuLwBQDgow2tp3370qHHjNQ8lcecVt/O6Zq0JnZzXGpmq2+D6fu/TcsPZba5Ml7SnuX9xPeQUA5aEAo611dXWFDadeHmau2ljayxFnXraxto1xWylOfL/PPu/ssOaONcmS9hEvO4z7FfdPXgFAuXQ89bvHVaoTDnbb+vK0cM/cNeHi62YlS0Z25UefCTPu+2J42xseD4fsn38jfRm9smtX6P759vDMiy+Fvpdfqc2PR8fAf+O130DotP0nh1mvmxrmv/HAMLlj/K/VDDFvHv3F0WHLSX8+6twpe95MVF6MZF/yJk8r5FQ6b5asOChZms1N3OLziBefR7z4PGWJV4ARvjn/b8Mnrzw0mRve5y5+Lvxh9+8lczC63JE3DPXGO76XTGXzAS4+j3jxecSLz1OWeJcgEg6+67Nh48ZkZhjx8fg8SBtNTsgbAIDdnAEj9L3cGR55/93hQx9KFmS48cYQ5t1+Wpi2fzW67mZ0Yu7MX393Mpete5G8YU/bv3BLMpXNN6Ti84gXn0e8+DxliXcGjPDr0BH22y+ZGUZ8PD4P0kaTE/IGAGA3BRi1G+Pnz09mhhEfj8+DtNHkhLwBANhNAUatV7I5c5KZYcTH4/MgbTQ5IW8AAHZTgFVYvH8n9mI32q7E4/Pi8+/duqAWSzXF333MgdHmjrwhSucNAFRZR09PT2YnHG6iE59HvPg84sXnES8+j3jxecSLz9Mq8c6AAQAAFEQBBgAAUJCObdu2ZV6C6BSh+DzixecRLz6PePF5xIvPI158nlaJdwYMAACgECH8/9ljfGuNkp8pAAAAAElFTkSuQmCC)"
      ],
      "metadata": {
        "id": "9evgS3aXa2eH"
      }
    }
  ]
}