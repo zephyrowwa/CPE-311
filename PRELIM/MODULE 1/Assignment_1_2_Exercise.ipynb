{
  "nbformat": 4,
  "nbformat_minor": 0,
  "metadata": {
    "colab": {
      "provenance": [],
      "authorship_tag": "ABX9TyMr/q0nFghzKQs8CXvYdK0O",
      "include_colab_link": true
    },
    "kernelspec": {
      "name": "python3",
      "display_name": "Python 3"
    },
    "language_info": {
      "name": "python"
    }
  },
  "cells": [
    {
      "cell_type": "markdown",
      "metadata": {
        "id": "view-in-github",
        "colab_type": "text"
      },
      "source": [
        "<a href=\"https://colab.research.google.com/github/zephyrowwa/CPE-311/blob/main/Assignment_1_2_Exercise.ipynb\" target=\"_parent\"><img src=\"https://colab.research.google.com/assets/colab-badge.svg\" alt=\"Open In Colab\"/></a>"
      ]
    },
    {
      "cell_type": "markdown",
      "source": [
        "CALAMBA, LIAM\n",
        "\n",
        "ESPERAT, GWYNETH\n",
        "\n",
        "CPE22S3-CPE311"
      ],
      "metadata": {
        "id": "Oy076MbnQYOb"
      }
    },
    {
      "cell_type": "code",
      "execution_count": null,
      "metadata": {
        "id": "q1PSXHmcKa40"
      },
      "outputs": [],
      "source": [
        "import time, sys #for the dramatic text ← ← ←\n",
        "\n",
        "characters = {\"F\": \"Farmer\", \"W\": \"Wolf\", \"S\": \"Sheep\", \"C\": \"Cabbage\"}\n",
        "bawal = [{\"W\", \"S\"}, {\"S\", \"C\"}, {\"S\", \"C\", \"W\"}]"
      ]
    },
    {
      "cell_type": "code",
      "source": [
        "#where they are rn\n",
        "def display_state(left_side, right_side):\n",
        "    print(\"CURRENT LOCATIONS:\")\n",
        "    print(\"West Side ||| East Side\")\n",
        "    print([characters[item] for item in left_side], \"|||\", [characters[item] for item in right_side] if right_side else \"[]\")"
      ],
      "metadata": {
        "id": "8YRGz8cJKhmz"
      },
      "execution_count": null,
      "outputs": []
    },
    {
      "cell_type": "code",
      "source": [
        "#wats gonna be the move\n",
        "def wat_move(current_side):\n",
        "    print(f\"Move from {current_side} to {'East' if current_side == 'West' else 'West'}:\")\n",
        "    user_input = \"\"\n",
        "    while user_input.upper() not in [\"F\", \"W\", \"S\", \"C\"]:\n",
        "        user_input = input(\"Choose Farmer only(F), Wolf (W), Sheep (S), or Cabbage (C):\")\n",
        "        print(\"\\n\")\n",
        "    return user_input.upper()\n",
        "\n",
        "#do da move\n",
        "def do_move(selected_item, current_state):\n",
        "    temp_state = [set(current_state[0]), set(current_state[1])]\n",
        "    set_index = 0 if selected_item in current_state[0] else 1\n",
        "    if \"F\" not in current_state[set_index]: #anti-cabbage eating and sheep eating\n",
        "        print(\"Not allowed - the farmer must accompany the item.\")\n",
        "        print(\"\")\n",
        "        return current_state\n",
        "    temp_state[1 - set_index].update([selected_item, \"F\"])\n",
        "    temp_state[set_index].difference_update({selected_item, \"F\"})\n",
        "    if temp_state[0] not in bawal and temp_state[1] not in bawal:\n",
        "        current_state = [set(temp_state[0]), set(temp_state[1])]\n",
        "    else:\n",
        "        print(\"Not allowed - one of your items would be eaten!\") #if did an illegal move\n",
        "    print(\"\")\n",
        "    return current_state"
      ],
      "metadata": {
        "id": "EhsOAZxHKkbz"
      },
      "execution_count": null,
      "outputs": []
    },
    {
      "cell_type": "code",
      "source": [
        "#if win\n",
        "def chk_w(right_side):\n",
        "    return right_side == {\"F\", \"W\", \"S\", \"C\"}"
      ],
      "metadata": {
        "id": "sxbab4PNKkqK"
      },
      "execution_count": null,
      "outputs": []
    },
    {
      "cell_type": "markdown",
      "source": [
        "the optimal solution:"
      ],
      "metadata": {
        "id": "XO_ICLCYNNFU"
      }
    },
    {
      "cell_type": "code",
      "source": [
        "#for aestet purp\n",
        "def dramatic(text):\n",
        "    for character in text:\n",
        "        sys.stdout.write(character)\n",
        "        sys.stdout.flush()\n",
        "        time.sleep(0.05)\n",
        "#start\n",
        "def start():\n",
        "\n",
        "    dramatic(\"once there was a farmer named Jack\\n\"), time.sleep(1)\n",
        "    dramatic(\"he has a mission to move his\\n\"), time.sleep(1.3)\n",
        "    dramatic(\"Cabbage\\n\"), time.sleep(1.2)\n",
        "    dramatic(\"Sheep\\n\"), time.sleep(1.2)\n",
        "    dramatic(\"and his Wolf\\n\"), time.sleep(1.2)\n",
        "    dramatic(\"to the east side of the river\\n\"), time.sleep(1)\n",
        "    dramatic(\"but there are things to look out for\\n\"), time.sleep(1)\n",
        "    dramatic(\"The Sheep and the Cabbage cannot be together without the farmer\\n\"), time.sleep(1.5)\n",
        "    dramatic(\"for the Sheep will it the cabbage.\\n\"), time.sleep(1.5)\n",
        "    dramatic(\"The Wolf and the Sheep cannot be together without the farmer\\n\"), time.sleep(1.5)\n",
        "    dramatic(\"for the Wolf will simply kill the Sheep.\\n\"), time.sleep(1.5)\n",
        "    dramatic(\"and also the boat only holds 2 passengers\\n\"), time.sleep(1)\n",
        "    dramatic(\"(The one singular Cabbage is considered as 1 Passenger :/)\\n\"), time.sleep(1)\n",
        "    dramatic(\"help him move them to the east side while considering the problems\\n\"), time.sleep(1)\n",
        "    print(\"\\n\")\n",
        "\n",
        "    left_side = {\"F\", \"W\", \"S\", \"C\"}\n",
        "    right_side = set()\n",
        "    current_side = 'West'\n",
        "\n",
        "    while not chk_w(right_side):\n",
        "        display_state(left_side, right_side)\n",
        "        user_move = wat_move(current_side)\n",
        "        left_side, right_side = do_move(user_move, [left_side, right_side])\n",
        "        current_side = 'East' if current_side == 'West' else 'West'\n",
        "\n",
        "    print(\"They're all on the easside now, goodjob :D\")\n",
        "\n",
        "start()"
      ],
      "metadata": {
        "colab": {
          "base_uri": "https://localhost:8080/"
        },
        "id": "s74HM1n7KlHC",
        "outputId": "3d1cb53d-2c15-4706-eb45-2da46d410641"
      },
      "execution_count": null,
      "outputs": [
        {
          "output_type": "stream",
          "name": "stdout",
          "text": [
            "once there was a farmer named Jack\n",
            "he has a mission to move his\n",
            "Cabbage\n",
            "Sheep\n",
            "and his Wolf\n",
            "to the east side of the river\n",
            "but there are things to look out for\n",
            "The Sheep and the Cabbage cannot be together without the farmer\n",
            "for the Sheep will it the cabbage.\n",
            "The Wolf and the Sheep cannot be together without the farmer\n",
            "for the Wolf will simply kill the Sheep.\n",
            "and also the boat only holds 2 passengers\n",
            "(The one singular Cabbage is considered as 1 Passenger :/)\n",
            "help him move them to the east side while considering the problems\n",
            "\n",
            "\n",
            "CURRENT LOCATIONS:\n",
            "West Side ||| East Side\n",
            "['Cabbage', 'Wolf', 'Farmer', 'Sheep'] ||| []\n",
            "Move from West to East:\n",
            "Choose Farmer only(F), Wolf (W), Sheep (S), or Cabbage (C):s\n",
            "\n",
            "\n",
            "\n",
            "CURRENT LOCATIONS:\n",
            "West Side ||| East Side\n",
            "['Cabbage', 'Wolf'] ||| ['Farmer', 'Sheep']\n",
            "Move from East to West:\n",
            "Choose Farmer only(F), Wolf (W), Sheep (S), or Cabbage (C):f\n",
            "\n",
            "\n",
            "\n",
            "CURRENT LOCATIONS:\n",
            "West Side ||| East Side\n",
            "['Cabbage', 'Wolf', 'Farmer'] ||| ['Sheep']\n",
            "Move from West to East:\n",
            "Choose Farmer only(F), Wolf (W), Sheep (S), or Cabbage (C):w\n",
            "\n",
            "\n",
            "\n",
            "CURRENT LOCATIONS:\n",
            "West Side ||| East Side\n",
            "['Cabbage'] ||| ['Wolf', 'Farmer', 'Sheep']\n",
            "Move from East to West:\n",
            "Choose Farmer only(F), Wolf (W), Sheep (S), or Cabbage (C):s\n",
            "\n",
            "\n",
            "\n",
            "CURRENT LOCATIONS:\n",
            "West Side ||| East Side\n",
            "['Cabbage', 'Farmer', 'Sheep'] ||| ['Wolf']\n",
            "Move from West to East:\n",
            "Choose Farmer only(F), Wolf (W), Sheep (S), or Cabbage (C):c\n",
            "\n",
            "\n",
            "\n",
            "CURRENT LOCATIONS:\n",
            "West Side ||| East Side\n",
            "['Sheep'] ||| ['Cabbage', 'Wolf', 'Farmer']\n",
            "Move from East to West:\n",
            "Choose Farmer only(F), Wolf (W), Sheep (S), or Cabbage (C):f\n",
            "\n",
            "\n",
            "\n",
            "CURRENT LOCATIONS:\n",
            "West Side ||| East Side\n",
            "['Farmer', 'Sheep'] ||| ['Cabbage', 'Wolf']\n",
            "Move from West to East:\n",
            "Choose Farmer only(F), Wolf (W), Sheep (S), or Cabbage (C):s\n",
            "\n",
            "\n",
            "\n",
            "They're all on the easside now, goodjob :D\n"
          ]
        }
      ]
    },
    {
      "cell_type": "markdown",
      "source": [
        "if move is wrong:\n",
        "\n",
        "\n",
        "(ran on Spyder IDE)\n",
        "\n",
        "![wong move.png](data:image/png;base64,iVBORw0KGgoAAAANSUhEUgAAAdQAAAGSCAYAAABaJjAdAAAAAXNSR0IArs4c6QAAAARnQU1BAACxjwv8YQUAAAAJcEhZcwAADsMAAA7DAcdvqGQAAEgFSURBVHhe7b3BaxVJ++j/vHc1y7s0yn3HaMgIuRs5CPG3uDNhwngxEEFhFtlEOOC7mMksBOEGxIW8ELgBF/HOwoFA3LgQFAzoFweHjN/NCBJc5TLmFzUOjPFPcHduVXf16eo+XdV9+tRJzomfjzyY7uquruep6nq6qvvUI4qWU/5/Jfa/J0qSNP3PPja/7ROd7/+X25fsz/9LjtP/2/+uKMmfr4/ReRTt1/+KrumQ5tr91qO54rTJGyutT+/vR7J1Y7716P1iqxmlTVt/F23H527dGG9vp8fF+bXl+XxrsjRNSWO+teVK0zK32LnPJ7ON1v/9z/+Zyr1TrdP5Y/77qdZ//Of/aP2v/57d//3//p+tO7PZfbH8t9ad/2y0vu/Yb4vvmII0XYZM2f5r63/ds66f0cMqa/48c1xa7jif9NwKeVaxmUM/v81ceXaW8f+28/al+a7nT4vr3MrTKs/pH/9He/+d2ayedtp//HgqTYtsZtsj1vc/fvyv7WtFf7fzSO3tLGe+HjraqKdurfOzeefqIVNmI1F5C/aXibl3O/sDl4y3lp+re3xtOtrWfZR9b9v90qM5u+/x9yG+vq6WVLkfIpsdyj7E7NxPcTnUXsXlUD9z0TdM9Zu2pnQ0TqRU9ttm1FENKe/ItcNPnH93Eju6oM5smOVwtM/Cnf0VeyQayrEm/3CoBaKfbFday42iNARB3OJ2qO3R9//+bx1pZZKMJvv+oIvsq/zD/AEAAAA98F/M/wAAANADOFQAAIAA4FABAAACUOpQm2v35dP7VB7NqZ1zi/JpbTo+wKCPi9JkXJaf2+esyHIjOkThS+u8VvsajXnZUttx/po4n3ZZ7HMiyebrYvLGimzdGDdbOcw1kzzTa8cU2sWg8+0og7ecebsose3rKovPLprcefk6AwCAsHR8qZSI/rlF8punjOjfNub262NVR67+zn5RGn3N1v7Nky/N83so/Xstdd5WJp/8sfbvrqqJvn7xV3Y6L+ur2Oj3Yum20y6R6LKpcigbufN2lbMozVMWr11y5yEIgiB9FfcIVY1urk69kh8uPzM76vHi8aa8OX5UJsy2jS+tk0158m5GFnMjxX4weWNWzm2sy7VNs2PzrjRXRc7PqNFsmV0aZ+X8u5ey+vqDyLdnRTm6nvCWJd5RbJfGMRkzfzqJRrDVRvMAAODH7VC/Oiondz/Iltmsy+RMQ05uKAdjtm2K0s4tpVOU+enYB7cfy9h3/Z+2nDhxRJ7+mnWYL3b25OSJf5baReu0o8/d/EOeSEMu9eisvGUxFNrFON6Fh8qWz+d7duwAAOCnTx8lHYk7cuUUfz+xLl9kRnO+NJGni9/LF1/GMnFz2+w1KCdxS2YHeEQ1Lpe+Fdl+rf/elge/2SPJPuKwy4ubP0V2/Oa3hvxe9A5VnTfx5U/p6BcAAGrjdqivP3QxHTsup0bNnxEf5fZF5RQvPpY3U1dyI01fWjmrv+7JwsJZs9Uftt5+lLGxbLkmx0bkzdu//HbR073HrQeG5hE52eO0r7csFj67xI71F3k6NcgPIwAAw43boeopy93T8nPRl6HaqUydkabZjB3JK1m/Z7YTomnHj8VOxZfm494DuT3akPNmsx/od7vS/DF1Po15WW3uyS09YvbYRU/3yur19gg7cmKVH0qK8ZbFpswuRe9UeYcKABAMz5Tvtlz7+rrqpK+032lqiX6SoacKF0V+TvY/bMiTi0uF70lf3FxXTqX4Y6KiNPsdavHPPFS57uzJyeNms0dONv+dXu/9YvyQEOmnRnxmpJnVz2UXPd17RHZ2bEf3TNY3Tsts6YdUyc9mrsg5Uc5a55no7i2LTc4u+Z/pROcxvQsA0C9YyxcAACAAffooCQAA4PMChwoAABAAHCoAAEAAcKi1mZZHyUdMHdRNAwCAYeXwONToJyD2QvFwIFAPAPCZ4nSoOppKR6dYEGWme2qO0ExH3f4ZSK1yDOfoUNdF5icwPdeBhnoAAAiJ06EWrdBzcKgOOPodZbJggpL84vT695pq/4X84hKHBHtJxg7d9w3qAQDARddTvumSd3qUkY5UMqPZ3CgmWV4wHmlZixdoqTLC8UZOsWOJFox6MmXR17bx6DAk5Eev1AMAwMHREdNNSxorNI3Rme4zMT/bx9txPLMxTzulKOZnuUSxU9/fz8RPzUpRvvmYoPlyunSoIr7j66YVi3KAse5G4jooODaKlZrk/bnUA4IgyGCIc4TaDhE2d0ZkQ9rL50VL60Vr91qjm2jEMSKnojVh4ygreqm8ZEQUgtLIKUWosmdiidp4dRg8nFF47CUGH87ISbObegAA2F9Kp3yb34msX34pko+3uftYvjEdfCzpOrFJp9uUH+NOstaHK8UEjZzi0WE4mJZHSyNx9J6o/MouJkVDPQAA7B9uh6ojysgZmRUdAPyZrKu/L8leHOtz82/ZcSx4bxN1ujpM2+ixXESZHkcg3nd5FpmoOPodn/XurqIOw0RzLf9uMoZ6AADoP/4R6tRpGTMfIW29HZGF5kj0t46ickF10GN2ZJjn86azzn5gEkU5uXpXXkRpmmeytBpPRVYeNXkjpyTX0520mTpMyrKpQ8SNmOnEf8v4HXsE59Nh8CiOwqOj2aTxV6++fWzpRz0AAOw3hS9XkTLxfTxTNw1BEAQZVun6ZzMAAADQCfFQAQAAAsAIFQAAIAA4VADoM/qDNdfazXXTAAYPHCoAAEAAShyqvT7rSucP+KP1WQv2K7xrzBYygE+qHv1q48ozt+5u+jOWw627bicdbaNSVKOStYMj7GNsmyr2sW7z90KlnygdFE676HZoyj/QP2vy9VnDogMMKxVGqB/NSjzVV6/RHcjP8ou18g3RR/yoG70sisshpX5Uo2259rW2VXZ1qAxzl2ThndUOD9CmgxEtqBeeyQVddr1AiNkzuLj6rGHSAYaR3qZ89So3sid/2o1WPeFenXolPzg6jbKR66kbK+20/Bq0rjRvntETdzY9Pdd6YlXSMVIq0q9XCm1WvuKQrXu2nD4dXGl6/6Ise2y9b7o7aEc1ytVfRx15mBwbsaIj5Thg/RJ8bbe5pkZYc5b+yahKjeC31pSYfcsmj2z9mnMy+z15JvTDLgCfER0/Tk2lLGJJgcwteiKR5CQTHUUveHC/9Wlt2qTr7eTavrScdORpHafL1s5jsKKcuKO45HTX+rWP8engS8vlGW13Wc+BxB/VKFeuqG7z5bT1iqVty4wcjH5alNPMlCXWreDYTNs151ntQW8r5xi34+i4uB51fqnN/O3amafZLpVM+6sqnXXUe5pLKvRZtXRAkHLZ/4+SnNFRNPbI9i/Z3j0i41+ZTV+aN08HAxblJFnIvjiKi6W7HkEcPyoT+m+fDqX6+Wy9f3ijGuWj1GzelVsb5eVs23L1o7xZvW6mWg92wf3uowXFPL2TLhe5etl6dbKh19jWvJJbdn4V2rUzTwDoifAOVS+EnnT4HUx7o6N08jFejL+QJM2XZ3at209Lkp2KHsAoJ11HcfHp0JV+Plv3H2dUo0NNt/dDRYjeA3AghHeom3/Ik131hFzhS0ZXdJQI/UHJcce7HE9aJk/9PnfU7lyWzFO9Ihrp9RDlxIws7PdTwagaxcWnQzf6+WxdREjdfVGNoig11oNF9H5+Hxx/P+vWg/d+qEqv7RoAatOHKV/99eV1uT16JR4VGok7J190FI01VaVHk7YDdKZ58tRThO9m4inUtiSf0vcY5SRyBFLzC9Uc9rSflkwUFx8+Hcr089m6hJC6a1xRjVT9TSzupTMMVaPb9Epo/ZyU3Q916LFdA0BPFL5cjaXCC/5BloIPpPRHGM6PQrqS+IOQrj7oGBip87GHLcOsexU57Pr1IHyUhCBOqTBCTZ6gi37sPeDceylPj2dHqPr3sZmPQmowGf3c5IqMrV7/7D7oOOy6f85168fMCFT96O9AcfVZw6QDDCNEmwEAAAjA/v9sBgAA4BCCQwUAAAgADhUAACAAOFQAAIAA4FABAAACgEMFAAAIAA4VAAAgADhUAACAAOBQAQAAAoBDBQAACAAOFQAAIAA4VAAAgADgUAEAAAKAQwUAAAgADhUAACAAOFQAAIAA4FABAAAC4HaojXnZen9fHs3Z2yuy3DDbB8K4LD+/L59UuSJZmzb794/mmmWThLnFAGWZlkfvF6VptqpT9zw3Wse2jYPZOXw5AQAGCf8IdfejjH0Xd6aTMyI7G0dk/Kto82CYuyQL736RL778PpbLz0zC/rH1VtlkbNxsHV6eLhobH5CdAQCGDb9DfbcpT+SYTKrRxeKJv2VJOZM2ZgSbjGKyI1l7JBKPKtNRnR6pFJxXgcmxEXnz9i+zldJcUyPnOas8z+dVmQ2ucqpR5daaEnP8shmVdVMem7RcHv1yZdm6ETvmeER4Rc7Jafk5Sa8wKiw9z6V7D+RHr8H0i8496BkQAIDeaBXK3GJLdXqtyRuLrWUlquNUf69E/yun0Xr0fqWlOr/42MZ8S3WGZnu8tfw8l/Z8vqUcnElbbClnG6dF+djbxaKvqzrhnKTXUB12SzlFc414u7ScWr/o2vqY+y3V+UfX0f8n1y2S9Ji07Ok+n345u3RINVt0ius8vd+he8exWYnsadnaaZMoz0D6dVE+BEGQQRTvCFWPul48/iDnVS+4fs/s1MydkXMb63Jt02xv3pVb7engbXnwm8j5mXh0Mjmjhhy//SEv9EbjrJw/bo1SolHLiJwqGZW8uPlTNPX4zepHebN63UxF/pReX/H0zt34GorVy9/LBV1ebzkVGy9lNfrjldy6uR39VcaLnT05eeKfUd6yITJrRmg7O+p8r36xXRYepiO3vlKmewn2lO+EbRv9vjjR7+GMnDS7e9ZPlW8iV6cAAMNE+Ve+UUe3ZByPVHp/+OLmuux8e1YmZVwufbuXdVa7j+Ub01EXOcZhofmdesi4/FLEvGNu49EveTBoyo+xQwrysc9+Mi2Plkbk9sVEt1/kqUnRDL9+AAD1cTpU/b7SyesP8mZqNn3f1ZiXq1MfZfu12ZZnsv6uIZfm1IjtXTIKVGz+LTvHZ2QxwLu8SpSWswY6Tzkjs6L1Unqqvy/JXpxnRf0ix3PxsbwZ1e+nbcpH68UUnNcP3XM01/QIvJNa+vEOFQCGnPIRahF61Lq4F03vxVN/DXlyMTvSXP1VpS/NyM6v9heiz+SC6mjHlsx5WuwPiEJToZy1mDotY+YjpK23I7LQTB4+fPplP1aKynI1nabW5y6pJ492WSuP7hzn9aj7OVuHdlnUA8TGkXaeV98+tkao/dIPAGA4+IcS/TIVAAAAeqDeCBUAAAAy4FABAAACgEMFAAAIAA4VAAAgADhU8KCXjezmpyz6S9/PYQF87NI92Gy4of6q0rF8ki35ZejSJf3qLJO3/5Iv/6e16cLjDp/opQATvevVlbZdftnBUnvqJR2tZSB7EX2tuL1ZYpbEzOzrkCq628cU6OGRvF0qlTOgXSKJlmosKv9g3ptFbcmtg5HQNuuT5O+JjrbQIb46GqL6M/udug9J/QWWwp2RRMYq7GiGy6GWN/DDLDXryuG4qtgzlM0L11Z2lKtYPLp3lY8lBedVLWe4tqj1cq17PID3ZqGtfTqkMuj3ry5f9+3IV0fDUn/VdB/0+gst7infaGWdV/KDJ3TXqRsr7R/yK6OlRKvemB/w95CmOimToMkuHJA5ryaqstv55fN0RrApjVLjLqc3Ko4Pp83iaZVlqx6yNnMQ5eeLCKSXVjwtTzOLclRn9ddXcu5f/Vuwox3Zx9eWSnBFLiqjG7vk8w9ml8YxGTN/unDem977yJVWs50ZCm1WQQdN0LbkaS+17k2Vn6+P9PUvGruO8vZ0pXnzzOmnJT3XV+9+iuuv3D9onPUXlbV4Cjmj4xAuAFPoaaOnEudwXT9FWU8neuqmfWzuyTMTRcSX5otWotPsp7bqT3H6CUlVTFtUAys8Li5Lmmd0nqW/3laNMLZLdFxsA51ftWgznjzNdrGU2VPlWVgPiRTZKp7ubF9bn5d50iw6J5Zq9nSf3434I/vofS67JNJZDn2+Xf5YXO0uL8V6+ctpH1t8fh1p61FY32p/YZvwtU9fWi7PaLs3m2lx62CL+/zuJFfmXHupdW96+8icRNerYk9fWk468rSOy4wq6/efzmMr6+44v/B+NfXQLvfwSQ8fJVlPJ9EatkdlQv/ti3JSIUqNXppOdURRcpuaUWoSuo+cElMYwUbjilJToZzOPF2URo1x1IOXbbl2Rz05moX9mwsNeXLb/6Rp47RnhrrrEqd4I/vUjKZTJXJRt3jL2UHvdtG09fitIb/rtpZ5kne0CV/7LG279mjkL9nerR65yIVfB5sANqvQXrq+N8vw9i8+e3rSSvqsQnrsP3un4FrK/p3RpaZlduqj3O6iLxo03A5VL65eqXMOR3KDFUYrCR6lZtobOaU2wxJN595LeTp1RtlaNeLRTXkQvIx78megPJ2RfQaMauUMZxdNfM+otmsHQvDha59dtd1wgRbKdQhrs2B4+8hu+xefPZM0X57ZdbY/LYnllBWh+6Wu/EM39TegdV0Rt0Pd/EOe7Kqnmm7nsH1RTipGQIluMDtayT5EqXFFTumKfpSzos26R9+Ap2V2TY2qrCfzGP1UrNLq6qHfj+1+kC2z2cY8XVd+f6N1d0X26ZtdfDjs4iunTSi75Kn4PtLbPrtpu3OXZOF41Y6vYlty6RCyLYVuL130kd7+xWdPT1omT63PqO0005CbvfVLjvqrqrur/lR5tzreocZ90tUu3s8PGp4p32259vV1uT16JX7iMVLagPVQ3hXlxJemn76s62SjlfQjSk32iS4bOaUufSin12Y+Envqm85M9+TKsnpblXUqFzw+wkwJ1/wYpLkwIzsdTloROZ5qMXXbuCL7VGpLbt3r4bGLMwJRSjC72NN+Hbr78LXPsrZr7KhFj37sDtuLw2YVdQhms9r3kQ9fH1nWv/js6Urz5Kn0u/VuRqKp87YkDquXfsnV5n26pzjrz8Hq5V9kp/nvNM9uB3QDQOHLVeTwS/GHM6noDwR86YVS4WM2ddMVpA2PfH526eYjlmKhLfVZCmxVy+YOCV9/h1YKdyKHWNpfV5Z+Tae/DnR8YVgo7o43uWaoG/xg5XOzS+8OlbbUb4kfMKL7OpGgX8uGq7/DLMRDBQAACEAPP5sBAACABBwqAABAAHCoAAAAAcChAgAABACHCgAAEAAcKgAAQABwqAAAAAHAoQIAAAQAhwoAABAAHCoAAEAAcKgAAAABwKECAAAEAIcKAAAQABwqAABAAHCoAAAAAcChAgAABACHCgAAEAAcKgAAQABwqAAAAAHAoQIAAAQAhwoAABAAHCoAAEAAcKgAAAABwKECAAAEAIcKAAAQABwqAABAAHCoAAAAAcChAgAABACHCgAAEAAcKgAAQABwqAAAAAHAoQIAAAQAhwoAABAAHCoAAEAAcKgAAAABwKECAAAEAIcKAAAQABwqAABAAHCoAAAAAcChAgAABACHCgAAEAAcKgAAQABwqAAAAAHAoQIAAAQAhwqfJ4152Xp/Xx7NmW0AgB5xO9SODmdclp9X7YCm5dH7RWmard6Jr/1JledTR76+tP0gtK7DgG1zJWvTZv9h4DDXZzf3SlU7DJq9+lSeqD88rO0CQuEfoe5+lLF/zcuk2Tw4tuXa19/LF1/+Ik/NnhRfGvSFuUuy8O4XZXNtdyWXn5mEIWLzrkyosl+4Z7Y/C7hXarP5t+yYPwFclEz5bsqTdzOyWDQqNSPYZJSSjFyba3r7ipyT0/Jzkl5xBBOfm0qQ6ThHOSdvrMjWjfF4w5Ddp590HWXJ5Kl17TMOHZKn8WVV7iQtq5NHBx/O68VMjo3Im7d/ma0KRPnZT/e52Y4S/dLzstvNtRVZnrPOfV7l4c89Sitvuw57zi3K1poSvV+VYdm0Y5d++XZXRGn7rGkzL5k8u2vXp0K3Qc95rn6idv0ZG7nvI4DqtAqlMd/aej7fmtT/r02rfeMt1RG1VCNUf0+3Hr1faS03rGPt7Sh9saVuYrNdQ6I883n48i1K85RzbrGlbrbMearDMvppXe287LxzeRZeN6R4dIjS7hs9TJqus+g8nw4+cV9P20d1NjmxbeESu+0o0XkmZS7Vz62D6kBbyoEZfePt9jVKxWUP136PPXVbiv7W++63VGcc2Ur/H59XxUY58bZPva+ezfz77HIWHVMk+jhVD4X1WbcNdnFepHuVY3156r8tHXSeVrvqPB5BiqX8o6TNu3JLZkXdIClzZ+Tcxrpc2zTb+piNIzL+ldmui3rS10+HkTyckZNmd2185Xz9Qd7ofY1jIrsjMqueVidOiGy/1vvOyvnj1lNu9NQ7Iqe0DfJ5doEeYbT1qzpqKLX1K/khmXLV01LHj8qE/tungw/P9V7c/Cma4v1m9aO8Wb1upnx/qmCLbbl255Wc+y4eLTQXGvLktilzj23p6Z278sL8vXq5j1O4ZfbceCmr0R+v5NbN7eivmG158JvIwsMuRz2+9tmjzQrpoV1n2qD8Jdu7pix122DZeXX6idKyOO4jgC6o9JXv6q97srBw1mz1i2l5tDQity+a93L78Z5n9Jg0Z47K9h3Vi4xNy6lRs1+z+1i+icqRSBXH4SdxSLEsmQ64j/RBh9rceylPp86oh4hpmR3dlAcHVY5eqGnPpN6b8mPcmVf9iMvXPgeaj7Hj19Rtg87zeugnerofnsmF/bhnYaip5FDl3gO5PdqQ82YzenqeskatjXm5OmXdRBEVnkQ9NNf0E2SP+MppnkJn5YM8uPeHbJ84I+OyJ3/qGyxKc7w7jvLUjkGj38cFKKePSrYuwKeDj7rXK+WZrG+cltm1MyLWqLL8emk7CtImKlHQduva0yJyrBcfyxvlKEvf9fraZz9sFqpd6w/Wjle4j3x0cV6xfn2oP2Xjrfcrqc0BCqjmUKMpuz05edxsbt6ViUU1an2YTLs05MlF+2nvmSypR7l2eqUnct3hHmmfc/XtY+vJM/mYQN88Ztqm/QGKJ81bTj01dVrOnfhbde7b8qc695zqvLZ0kn4aVR3f2JI5L5dnc3XETB39W8bv9HkkXWprFx4dfNS+Xjmrt1V5pkTW7WlZ7/Wy7SjbJuria0saV9utac/29Yxo/a5aDxROPO2zts3890r9dm1NpS6J/NAeydW1me88Xz+hCV1/ANX5hxL9MhWg7+h3yKvyf2Qi844RAOBwUHGEClCf5GOs30+s40wB4NDCCBUAACAAjFABAAACgEMFAAAIAA4VAAAgADhUAACAAOBQAQAAAoBDBQAACAAOFQAAIAA4VAAAgADgUAEAAAKAQwUAAAgADhUAACAAOFQAAIAA4FABAAACgEMFAAAIAA4VAAAgADhUAACAAOBQAQAAAlDqUJtr9+XT+1Qezamdc4vyaW06PsCgj4vSZFyWn9vnrMhyIzpE4UvrvFb7Go152VLbcf6aOJ92WexzIsnm62Lyxops3Rg3WznMNZM802vHFNrFoPPtKIO3nHm7KLHt6yqLzy6a3Hn5OgMAgLC0XKKcRkt1wp1pc4sd+/WxqiNXf4+3lp+vtJSjiPYr59L69Hy+NRkd50uz88hJY761pc7byuSTP3a69ej9YqvZ3i4XfX3lUAvSdF5pOaPrW9tOu0Siy6bKoWzkzttVzqI0T1m8dsmdhyAIgvRV3CNUNbq5OvVKfrj8zOyox4vHm/Lm+FGZMNs2vrRONuXJuxlZzI0U+8HkjVk5t7Eu1zbNjs270lwVOT+jRrNldmmclfPvXsrq6w8i354V5eh6wluWeEexXRrHZMz86SQawVYbzQMAgB+3Q/3qqJzc/SBbZrMukzMNObmhHIzZtilKO7eUTlHmp2Mf3H4sY9/1f9py4sQRefpr1mG+2NmTkyf+WWoXrdOOPnfzD3kiDbnUo7PylsVQaBfjeBceKls+n+/ZsQMAgJ8+fZR0JO7IlVP8/cS6fJEZzfnSRJ4ufi9ffBnLxM1ts9egnMQtmR3gEdW4XPpWZPu1/ntbHvxmjyT7iMMuL27+FNnxm98a8nvRO1R13sSXP6WjXwAAqI3bob7+0MV07LicGjV/RnyU2xeVU7z4WN5MXcmNNH1p5az+uicLC2fNVn/YevtRxsay5ZocG5E3b//y20VP9x63HhiaR+Rkj9O+3rJY+OwSO9Zf5OnUID+MAAAMN26Hqqcsd0/Lz0VfhmqnMnVGmmYzdiSvZP2e2U6Iph0/FjsVX5qPew/k9mhDzpvNfqDf7Urzx9T5NOZltbknt/SI2WMXPd0rq9fbI+zIiVV+KCnGWxabMrsUvVPlHSoAQDA8U77bcu3r66qTvtJ+p6kl+kmGnipcFPk52f+wIU8uLhW+J31xc105leKPiYrS7HeoxT/zUOW6sycnj5vNHjnZ/Hd6vfeL8UNCpJ8a8ZmRZlY/l130dO8R2dmxHd0zWd84LbOlH1IlP5u5IudEOWudZ6K7tyw2Obvkf6YTncf0LgBAv/iHEv25LwAAAPRAnz5KAgAA+LzAoQIAAAQAhwoAABAAHGptpuVR8hFTB3XTAABgWDk8DjX6CYi9UDwcCNQDAHymOB2qjqbS0SkWRJnpnpojNNNRt38GUqscwzk61HWR+QlMz3WgoR4AAELidKhFK/QcHKoDjn5HmSyYoCS/OL3+vabafyG/uMQhwV6SsUP3fYN6AABw0fWUb7rknR5lpCOVzGg2N4pJlheMR1rW4gVaqoxwvJFT7FiiBaOeTFn0tW08OgwJ+dEr9QAAcHB0xHTTksYKTWN0pvtMzM/28XYcz2zM004pivlZLlHs1Pf3M/FTs1KUbz4maL6cLh2qiO/4umnFohxgrLuRuA4Kjo1ipSZ5fy71gCAIMhjiHKG2Q4TNnRHZkPbyedHSetHavdboJhpxjMipaE3YOMqKXiovGRGFoDRyShGq7JlYojZeHQYPZxQee4nBhzNy0uymHgAA9pfSKd/mdyLrl1+K5ONt7j6Wb0wHH0u6TmzS6Tblx7iTrPXhSjFBI6d4dBgOpuXR0kgcvScqv7KLSdFQDwAA+4fboeqIMnJGZkUHAH8m6+rvS7IXx/rc/Ft2HAve20Sdrg7TNnosF1GmxxGI912eRSYqjn7HZ727q6jDMNFcy7+bjKEeAAD6j3+EOnVaxsxHSFtvR2ShORL9raOoXFAd9JgdGeb5vOmssx+YRFFOrt6VF1Ga5pksrcZTkZVHTd7IKcn1dCdtpg6TsmzqEHEjZjrx3zJ+xx7B+XQYPIqj8OhoNmn81atvH1v6UQ8AAPtN4ctVpEx8H8/UTUMQBEGGVbr+2QwAAAB0QjxUAACAADBCBQAACAAOFQD6jP5gzbV2c900gMEDhwoAABCAEodqr8+60vkD/mh91oL9Cu8as4UM4JOqR7/auPLMrbub/ozlcOuu20lH26gU1ahk7eAI+xjbpop9rNv8vVDpJ0oHhdMuuh2a8g/0z5p8fdaw6ADDSoUR6kezEk/11Wt0B/Kz/GKtfEP0ET/qRi+L4nJIqR/VaFuufa1tlV0dKsPcJVl4Z7XDA7TpYEQL6oVnckGXXS8QYvYMLq4+a5h0gGGktylfvcqN7MmfdqNVT7hXp17JD45Oo2zkeurGSjstvwatK82bZ/TEnU1Pz7WeWJV0jJSK9OuVQpuVrzhk654tp08HV5revyjLHlvvm+4O2lGNcvXXUUceJsdGrOhIOQ5YvwRf222uqRHWnKV/MqpSI/itNSVm37LJI1u/5pzMfk+eCf2wC8BnRMePU1Mpi1hSIHOLnkgkOclER9ELHtxvfVqbNul6O7m2Ly0nHXlax+mytfMYrCgn7iguOd21fu1jfDr40nJ5Rttd1nMg8Uc1ypUrqtt8OW29YmnbMiMHo58W5TQzZYl1Kzg203bNeVZ70NvKOcbtODourkedX2ozf7t25mm2SyXT/qpKZx31nuaSCn1WLR0QpFz2/6MkZ3QUjT2y/Uu2d4/I+Fdm05fmzdPBgEU5SRayL47iYumuRxDHj8qE/tunQ6l+PlvvH96oRvkoNZt35dZGeTnbtlz9KG9Wr5up1oNdcL/7aEExT++ky0WuXrZenWzoNbY1r+SWnV+Fdu3MEwB6IrxD1QuhJx1+B9Pe6CidfIwX4y8kSfPlmV3r9tOSZKeiBzDKSddRXHw6dKWfz9b9xxnV6FDT7f1QEaL3ABwI4R3q5h/yZFc9IVf4ktEVHSVCf1By3PEux5OWyVO/zx21O5cl81SviEZ6PUQ5MSML+/1UMKpGcfHp0I1+PlsXEVJ3X1SjKEqN9WARvZ/fB8ffz7r14L0fqtJruwaA2vRhyld/fXldbo9eiUeFRuLOyRcdRWNNVenRpO0AnWmePPUU4buZeAq1Lcmn9D1GOYkcgdT8QjWHPe2nJRPFxYdPhzL9fLYuIaTuGldUI1V/E4t76QxD1eg2vRJaPydl90MdemzXANAThS9XY6nwgn+QpeADKf0RhvOjkK4k/iCkqw86BkbqfOxhyzDrXkUOu349CB8lIYhTKoxQkyfooh97Dzj3XsrT49kRqv59bOajkBpMRj83uSJjq9c/uw86Drvun3Pd+jEzAlU/+jtQXH3WMOkAwwjRZgAAAAKw/z+bAQAAOITgUAEAAAKAQwUAAAgADhUAACAAOFQAAIAA4FABAAACgEMFAAAIAA4VAAAgADhUAACAAOBQAQAAAoBDBQAACAAOFQAAIAA4VAAAgADgUAEAAAKAQwUAAAgADhUAACAAOFQAAIAAuB1qY1623t+XR3P29oosN8z2gTAuy8/vyydVrkjWps3+/aW5ZpUhWDmm5dH7RWmarerUPa8YrVu7zhPmFgPoGLacAACDhn+EuvtRxr6LO9LJGZGdjSMy/lW0eTDMXZKFd7/IF19+H8vlZyZh/3m6aMpwwOUIzdZbVedj42YLAACq4neo7zbliRyTSTW6WDzxtyypzraNGcEmo7TsSNYeicSjynTUo0cqBedVYHJsRN68/ctspTTX1Mh5zirP83lVZoOrnGrUtbWmxBy/bEad3ZSniPzoNZNfrixbN2LHFZ9zRc7Jafk5Sa8wIiw9z6V7DVK7e+qvF/2icw96BgQAoDdahTK32FKdXmvyxmJrWYnqONXfK9H/qlNtPXq/0lKdX3xsY76lOkOzPd5afp5Lez7fUg7OpC22lLON06J87O1i0ddVnXBO0muoDrulnKK5RrxdWk6tX3Rtfcz9lur8o+vo/5PruiS6nlUW5znR9RL9cnbpkGq26BTXeR7dO45NJbVBmm+6z1d/PepXsXwIgiCDKt4Rqh6VvHj8Qc6rXnD9ntmpmTsj5zbW5dqm2d68K7fa08Hb8uA3kfMz8ehkckYNOX77Q17ojcZZOX/cGqVEo5YROVUyKnlx86doavWb1Y/yZvW6mWr9Kb2+4umdu/E1FKuXv5cLurzecio2Xspq9McruXVzO/qrKvaU74R9rn7fmOj3cEZOmt2JXRYepiO3vlKmu4MXO3ty8sQ/o/NlQ2TWjEB3dpSO3vrrUT9VvolcnQIADBPlX/lGHd2ScTxS6f3ai5vrsvPtWZmUcbn07V7WWe0+lm+MIypyjMPNtDxaGpHbFxPdfpGnJkWTPBg05cfYIQX5mKk/NL9TD1GXX4qYd+htPPU3TPoBAITG6VD1+0onrz/Im6nZ9H1XY16uTn2U7ddmW57J+ruGXJpTI5p3yShQsfm37ByfkcUe31NWprSc/aW5pkdwnUSO5+JjeTOq30/blI/Wiyk4r67u+jw5I7Oi603Vo/r7kuzF51Wsv1r68Q4VAIac8hFqEXrUurgXTe/FU5sNeXIxO9Jc/VWlL83Izq/2F7DP5ILqaMeWzHla7A+IQlOhnHU5Z+vQHokpB7RxpH29q28fWyPU7Mc8UVmuptPU+twl9eTRLmvl0Z3jvF50nzotY+YjpK23I7LQTB6ufPXXL/0AAIaDfyjRL1MBAACgB+qNUAEAACADDhUAACAAOFQAAIAA4FABAAACgEMFD3rZyG5+yqK/9P0cFsDHLt2DzYYb6q8qHcsn2ZJfZi9d0s+zjNwASb78n9amC487fKKXAkz0rldX2nb5ZRVL7amXdLSWgexF9LXi9maJWRIzs69DquhuH1Ogh0fydqlUzoB2iSRaqrGo/IN5bxa1JbcORkLbrE+Svyc62kKH+OpoiOrP7HfqPiT1F1gKd0YSGauwoxkuh1rewA+z1Kwrh+OqYs9QNi9cW9lRrmLx6N5VPpYUnFe1nOHaotbLte7xAN6bhbb26ZDKoN+/unzdtyNfHQ1L/VXTfdDrL7S4p3yjlXVeyQ+e0GSnbqy0f8ivjJYSrXpjfsDfQ5rqpEyCJrtwQOa8mqjKbueXz9MZwaY0So27nN6oOD6cNounVZatesjazEGUny8ikF568LQ8zSzKUZ3VX1/JuX/1b8GOduQbX1sqwRW5qIxu7JLPP5hdGsdkzPzpwnlveu8jV1rNdmYotFkFHTRB25KnvdS6N1V+vj7S179o7DrK29OV5s0zp5+W9Fxfvfsprr9y/6Bx1l9U1uwUsnow7bBD0b5Bp9DTRk8lzuG6foqynk701E372NyTZyaKiC/NF61Ep9lPbdWf4qKnKGtKQlVO4XFxWdI8o/Ms/fW2aoSxXaLjYhvo/KpFY/HkabaLpcyeKs/CekikyFbxdGf72vq8zJNm0TmxVLOn+/xuJLVrml92n8suiXSWQ59vlz8WV7vLS7Fe/nLaxxafX0faehTWt9pf2CZ87dOXlssz2u7NZlrcOtjiPr87yZU5115q3ZvePjIn0fWq2NOXlpOOPK3jMqPK+v2n89jKujvOL7pf22VOz9FtpLyPHBzp4aMk6+kkWuP1qEzov31RTipEqdFL06mOKEpuUzNKTUL3kWFiCiPYaFxRaiqU05mni9KoMY568LIt1+6oJ0ez8H1zoSFPbvufNG2c9sxQd13iFG/km1K7FFMlclG3eMvZQe920bT1+K0hv+u2llnK0dEmfO2ztO3ao5G/ZHu33NZl+HWwCWCzCu2l63uzDG//4rOnJ62kzyqkx/6zdwqupezfEV0qWkdc0TgmsjsS3UcTJ1RvtU9rr4fA7VC1cpU653AkN1hhtJLgUWqmvZFhajMs0XTuvZSnU2eUradldnRTHgQv4578GShPZ+SbAaNaOcPZRRPfM6rt2oEQfPjaZ1dtN1yQiXIdwtosGN4+stv+xWfPJM2XZ3Yd8U9LYjllReh+qSv/0EX9jR6T5sxR2b6jThibllOjZv+Q4Haom3/Ik131VNPtIuba0K4oJ740i+gGs6OV7EOUGldkmK7oRzkr2qx79A14WmbX1KjKejKP0U/FKq2uHvr92O4H2TKbbczT9aOq+WrdXZFv+mYXHw67+MppE8oueSq+j/S2z27a7twlWThetZOs2JZcOoRsS6HbSxd9pLd/8dnTk5bJU+szajvNNORmb/2So/6q6u6qP1XerXx0qaicR9V99EEe3PtDtk+ckfFBfZhy4Jny3ZZrX1+X26NX4iceI6UNWA/lXVFOfGm5l+bZaCX9iFLjiwxTlz6U02szH4k99U1npntyZVm9rco6lQseH2GmhGt+DNJcmJGdDietiBxPtZi6bVyRbyq1Jbfu9fDYxRmhJyWYXexpvw7dffjaZ1nbNXbUokc/doftxWGzijoEs1nt+8iHr48s61989nSlefJU+t16NyPR1HlbEofVS7/kavM+3VOc9VdI7LzPnfhbHb8tfyo7nFPOtcMZDziFL1eRwy/FH86koj/M8KUXivdjBf2xwfB/Rv/52cXxYUkXQlvqsxTYqpbNHRK+/g6tFO5EDrG0v65sfwXoEv11oOMLw0Jxd7zJNUPd4Acrn5tdeneotKV+S/yAEd3XiZTe391IuPo7zEI8VAAAgAD08LMZAAAASMChAgAABACHCgAAEAAcKgAAQABwqAAAAAHAoQIAAAQAhwoAABAAHCoAAEAAcKgAAAABwKECAAAEAIcKAAAQABwqAABAAHCoAAAAAcChAgAABACHCgAAEAAcKgAAQABwqAAAAAHAoQIAAAQAhwoAABAAHCoAAEAAcKgAAAABwKECAAAEAIcKAAAQABwqAABAAHCoAAAAAcChAgAABACHCgAAEAAcKgAAQABwqAAAAAHAoQIAAAQAhwoAABAAHCoAAEAAcKgAAAABwKECAAAEAIcKAAAQABwqAABAAHCoAAAAAcChAgAABACHCgAAEAAcKgAAQABwqAAAAAHAoQIAAAQAhwoAABAAHCoAAEAAcKjwedKYl6339+XRnNkGAOgRt0Pt6HDGZfl51Q5oWh69X5Sm2eqd+NqfVHk+deTrS9sPQus6DNg2V7I2bfYfBg5zfXZzr1S1w6DZq0/lifrDw9ouIBT+EeruRxn717xMms2DY1uuff29fPHlL/LU7EnxpUFfmLskC+9+UTbXdldy+ZlJGCI278qEKvuFe2b7s4B7pTabf8uO+RPARcmU76Y8eTcji0WjUjOCTUYpyci1uaa3r8g5OS0/J+kVRzDxuakEmY5zlHPyxops3RiPNwzZffpJ11GWTJ5a1z7j0CF5Gl9W5U7Ssjp5dPDhvF7M5NiIvHn7l9mqQJSf/XSfm+0o0S89L7vdXFuR5Tnr3OdVHv7co7Tytuuw59yibK0p0ftVGZZNO3bpl293RZS2z5o285LJs7t2fSp0G/Sc5+onatefsZH7PgKoTqtQGvOtrefzrUn9/9q02jfeUh1RSzVC9fd069H7ldZywzrW3o7SF1vqJjbbNSTKM5+HL9+iNE855xZb6mbLnKc6LKOf1tXOy847l2fhdUOKR4co7b7Rw6TpOovO8+ngE/f1tH1UZ5MT2xYusduOEp1nUuZS/dw6qA60pRyY0Tfebl+jVFz2cO332FO3pehvve9+S3XGka30//F5VWyUE2/71Pvq2cy/zy5n0TFFoo9T9VBYn3XbYBfnRbpXOdaXp/7b0kHnabWrzuMRpFjKP0ravCu3ZFbUDZIyd0bObazLtU2zrY/ZOCLjX5ntuqgnff10GMnDGTlpdtfGV87XH+SN3tc4JrI7IrPqaXXihMj2a73vrJw/bj3lRk+9I3JK2yCfZxfoEUZbv6qjhlJbv5IfkilXPS11/KhM6L99OvjwXO/FzZ+iKd5vVj/Km9XrZsr3pwq22JZrd17Jue/i0UJzoSFPbpsy99iWnt65Ky/M36uX+ziFW2bPjZeyGv3xSm7d3I7+itmWB7+JLDzsctTja5892qyQHtp1pg3KX7K9a8pStw2WnVennygti+M+AuiCSl/5rv66JwsLZ81Wv5iWR0sjcvuieS+3H+95Ro9Jc+aobN9RvcjYtJwaNfs1u4/lm6gciVRxHH4ShxTLkumA+0gfdKjNvZfydOqMeoiYltnRTXlwUOXohZr2TOq9KT/GnXnVj7h87XOg+Rg7fk3dNug8r4d+oqf74Zlc2I97FoaaSg5V7j2Q26MNOW82o6fnKWvU2piXq1PWTRRR4UnUQ3NNP0H2iK+c5il0Vj7Ig3t/yPaJMzIue/KnvsGiNMe74yhP7Rg0+n1cgHL6qGTrAnw6+Kh7vVKeyfrGaZldOyNijSrLr5e2oyBtohIFbbeuPS0ix3rxsbxRjrL0Xa+vffbDZqHatf5g7XiF+8hHF+cV69eH+lM23nq/ktocoIBqDjWastuTk8fN5uZdmVhUo9aHybRLQ55ctJ/2nsmSepRrp1d6Itcd7pH2OVffPraePJOPCfTNY6Zt2h+geNK85dRTU6fl3Im/Vee+LX+qc8+pzmtLJ+mnUdXxjS2Z83J5NldHzNTRv2X8Tp9H0qW2duHRwUft65WzeluVZ0pk3Z6W9V4v246ybaIuvrakcbXdmvZsX8+I1u+q9UDhxNM+a9vMf6/Ub9fWVOqSyA/tkVxdm/nO8/UTmtD1B1CdfyjRL1MB+o5+h7wq/0cmMu8YAQAOBxVHqAD1ST7G+v3EOs4UAA4tjFABAAACwAgVAAAgADhUAACAAOBQAQAAAoBDBQAACAAOFQAAIAA4VAAAgADgUAEAAAKAQwUAAAgADhUAACAAOFQAAIAA4FABAAACgEMFAAAIAA4VAAAgADhUAACAAOBQAQAAAoBDBQAACAAOFQAAIAClDrW5dl8+vU/l0ZzaObcon9am4wMM+rgoTcZl+bl9zoosN6JDFL60zmu1r9GYly21HeevifNpl8U+J5Jsvi4mb6zI1o1xs5XDXDPJM712TKFdDDrfjjJ4y5m3ixLbvq6y+OyiyZ2XrzMAAAhLyyXKabRUJ9yZNrfYsV8fqzpy9fd4a/n5Sks5imi/ci6tT8/nW5PRcb40O4+cNOZbW+q8rUw++WOnW4/eL7aa7e1y0ddXDrUgTeeVljO6vrXttEskumyqHMpG7rxd5SxK85TFa5fceQiCIEhfxT1CVaObq1Ov5IfLz8yOerx4vClvjh+VCbNt40vrZFOevJuRxdxIsR9M3piVcxvrcm3T7Ni8K81VkfMzajRbZpfGWTn/7qWsvv4g8u1ZUY6uJ7xliXcU26VxTMbMn06iEWy10TwAAPhxO9SvjsrJ3Q+yZTbrMjnTkJMbysGYbZuitHNL6RRlfjr2we3HMvZd/6ctJ04ckae/Zh3mi509OXnin6V20Trt6HM3/5An0pBLPTorb1kMhXYxjnfhobLl8/meHTsAAPjp00dJR+KOXDnF30+syxeZ0ZwvTeTp4vfyxZexTNzcNnsNykncktkBHlGNy6VvRbZf67+35cFv9kiyjzjs8uLmT5Edv/mtIb8XvUNV5018+VM6+gUAgNq4HerrD11Mx47LqVHzZ8RHuX1ROcWLj+XN1JXcSNOXVs7qr3uysHDWbPWHrbcfZWwsW67JsRF58/Yvv130dO9x64GheURO9jjt6y2Lhc8usWP9RZ5ODfLDCADAcON2qHrKcve0/Fz0Zah2KlNnpGk2Y0fyStbvme2EaNrxY7FT8aX5uPdAbo825LzZ7Af63a40f0ydT2NeVpt7ckuPmD120dO9snq9PcKOnFjlh5JivGWxKbNL0TtV3qECAATDM+W7Lde+vq466Svtd5paop9k6KnCRZGfk/0PG/Lk4lLhe9IXN9eVUyn+mKgozX6HWvwzD1WuO3ty8rjZ7JGTzX+n13u/GD8kRPqpEZ8ZaWb1c9lFT/cekZ0d29E9k/WN0zJb+iFV8rOZK3JOlLPWeSa6e8tik7NL/mc60XlM7wIA9It/KNGf+wIAAEAP9OmjJAAAgM8LHCoAAEAAcKgAAAABwKHWZloeJR8xdVA3DQAAhpXD41Cjn4DYC8XDgUA9AMBnitOh6mgqHZ1iQZSZ7qk5QjMddftnILXKMZyjQ10XmZ/A9FwHGuoBACAkTodatELPwaE64Oh3lMmCCUryi9Pr32uq/Rfyi0scEuwlGTt03zeoBwAAF11P+aZL3ulRRjpSyYxmc6OYZHnBeKRlLV6gpcoIxxs5xY4lWjDqyZRFX9vGo8OQkB+9Ug8AAAdHR0w3LWms0DRGZ7rPxPxsH2/H8czGPO2Uopif5RLFTn1/PxM/NStF+eZjgubL6dKhiviOr5tWLMoBxrobieug4NgoVmqS9+dSDwiCIIMhzhFqO0TY3BmRDWkvnxctrRet3WuNbqIRx4icitaEjaOs6KXykhFRCEojpxShyp6JJWrj1WHwcEbhsZcYfDgjJ81u6gEAYH8pnfJtfieyfvmlSD7e5u5j+cZ08LGk68QmnW5Tfow7yVofrhQTNHKKR4fhYFoeLY3E0Xui8iu7mBQN9QAAsH+4HaqOKCNnZFZ0APBnsq7+viR7cazPzb9lx7HgvU3U6eowbaPHchFlehyBeN/lWWSi4uh3fNa7u4o6DBPNtfy7yRjqAQCg//hHqFOnZcx8hLT1dkQWmiPR3zqKygXVQY/ZkWGez5vOOvuBSRTl5OpdeRGlaZ7J0mo8FVl51OSNnJJcT3fSZuowKcumDhE3YqYT/y3jd+wRnE+HwaM4Co+OZpPGX7369rGlH/UAALDfFL5cRcrE9/FM3TQEQRBkWKXrn80AAABAJ8RDBQAACAAjVAAAgADgUAGgz+gP1lxrN9dNAxg8cKgAAAABKHGo9vqsK50/4I/WZy3Yr/CuMVvIAD6pevSrjSvP3Lq76c9YDrfuup10tI1KUY1K1g6OsI+xbarYx7rN3wuVfqJ0UDjtotuhKf9A/6zJ12cNiw4wrFQYoX40K/FUX71GdyA/yy/WyjdEH/GjbvSyKC6HlPpRjbbl2tfaVtnVoTLMXZKFd1Y7PECbDka0oF54Jhd02fUCIWbP4OLqs4ZJBxhGepvy1avcyJ78aTda9YR7deqV/ODoNMpGrqdurLTT8mvQutK8eUZP3Nn09FzriVVJx0ipSL9eKbRZ+YpDtu7Zcvp0cKXp/Yuy7LH1vunuoB3VKFd/HXXkYXJsxIqOlOOA9Uvwtd3mmhphzVn6J6MqNYLfWlNi9i2bPLL1a87J7PfkmdAPuwB8RnT8ODWVsoglBTK36IlEkpNMdBS94MH91qe1aZOut5Nr+9Jy0pGndZwuWzuPwYpy4o7iktNd69c+xqeDLy2XZ7TdZT0HEn9Uo1y5orrNl9PWK5a2LTNyMPppUU4zU5ZYt4JjM23XnGe1B72tnGPcjqPj4nrU+aU287drZ55mu1Qy7a+qdNZR72kuqdBn1dIBQcpl/z9KckZH0dgj279ke/eIjH9lNn1p3jwdDFiUk2Qh++IoLpbuegRx/KhM6L99OpTq57P1/uGNapSPUrN5V25tlJezbcvVj/Jm9bqZaj3YBfe7jxYU8/ROulzk6mXr1cmGXmNb80pu2flVaNfOPAGgJ8I7VL0QetLhdzDtjY7Sycd4Mf5CkjRfntm1bj8tSXYqegCjnHQdxcWnQ1f6+Wzdf5xRjQ413d4PFSF6D8CBEN6hbv4hT3bVE3KFLxld0VEi9Aclxx3vcjxpmTz1+9xRu3NZMk/1imik10OUEzOysN9PBaNqFBefDt3o57N1ESF190U1iqLUWA8W0fv5fXD8/axbD977oSq9tmsAqE0fpnz115fX5fbolXhUaCTunHzRUTTWVJUeTdoO0JnmyVNPEb6biadQ25J8St9jlJPIEUjNL1Rz2NN+WjJRXHz4dCjTz2frEkLqrnFFNVL1N7G4l84wVI1u0yuh9XNSdj/Uocd2DQA9UfhyNZYKL/gHWQo+kNIfYTg/CulK4g9CuvqgY2Ckzscetgyz7lXksOvXg/BREoI4pcIINXmCLvqx94Bz76U8PZ4doerfx2Y+CqnBZPRzkysytnr9s/ug47Dr/jnXrR8zI1D1o78DxdVnDZMOMIwQbQYAACAA+/+zGQAAgEMIDhUAACAAOFQAAIAA4FABAAACgEMFAAAIAA4VAAAgADhUAACAAOBQAQAAAoBDBQAACAAOFQAAIAA4VAAAgADgUAEAAAKAQwUAAAgADhUAACAAOFQAAIAA4FABAAACgEMFAAAIgNuhNuZl6/19eTRnb6/IcsNsHwjjsvz8vnxS5Ypkbdrs3z+aa5ZNEuYWA5RlWh69X5Sm2apO3fPcaB3bNg5m5/DlBAAYJPwj1N2PMvZd3JlOzojsbByR8a+izYNh7pIsvPtFvvjy+1guPzMJ+8fWW2WTsXGzdXh5umhsfEB2BgAYNvwO9d2mPJFjMqlGF4sn/pYl5UzamBFsMorJjmTtkUg8qkxHdXqkUnBeBSbHRuTN27/MVkpzTY2c56zyPJ9XZTa4yqlGlVtrSszxy2ZU1k15bNJyefTLlWXrRuyY4xHhFTknp+XnJL3CqLD0PJfuPZAfvQbTLzr3oGdAAAB6o1Uoc4st1em1Jm8stpaVqI5T/b0S/a+cRuvR+5WW6vziYxvzLdUZmu3x1vLzXNrz+ZZycCZtsaWcbZwW5WNvF4u+ruqEc5JeQ3XYLeUUzTXi7dJyav2ia+tj7rdU5x9dR/+fXLdI0mPSsqf7fPrl7NIh1WzRKa7z9H6H7h3HZiWyp2Vrp02iPAPp10X5EARBBlG8I1Q96nrx+IOcV73g+j2zUzN3Rs5trMu1TbO9eVdutaeDt+XBbyLnZ+LRyeSMGnL89oe80BuNs3L+uDVKiUYtI3KqZFTy4uZP0dTjN6sf5c3qdTMV+VN6fcXTO3fjayhWL38vF3R5veVUbLyU1eiPV3Lr5nb0Vxkvdvbk5Il/RnnLhsisGaHt7KjzvfrFdll4mI7c+kqZ7iXYU74Ttm30++JEv4czctLs7lk/Vb6JXJ0CAAwT5V/5Rh3dknE8Uun94Yub67Lz7VmZlHG59O1e1lntPpZvTEdd5BiHheZ36iHj8ksR8465jUe/5MGgKT/GDinIxz77ybQ8WhqR2xcT3X6RpyZFM/z6AQDUx+lQ9ftKJ68/yJup2fR9V2Nerk59lO3XZlueyfq7hlyaUyO2d8koULH5t+wcn5HFAO/yKlFazhroPOWMzIrWS+mp/r4ke3GeFfWLHM/Fx/JmVL+ftikfrRdTcF4/dM/RXNMj8E5q6cc7VAAYcspHqEXoUeviXjS9F0/9NeTJxexIc/VXlb40Izu/2l+IPpMLqqMdWzLnabE/IApNhXLWYuq0jJmPkLbejshCM3n48OmX/VgpKsvVdJpan7uknjzaZa08unOc16Pu52wd2mVRDxAbR9p5Xn372Bqh9ks/AIDh4B9K9MtUAAAA6IF6I1QAAADIgEMFAAAIAA4VAAAgADhUAACAAOBQwYNeNrKbn7LoL30/hwXwsUv3YLPhhvqrSsfySbbkl6FLl/Srs0ze/ku+/J/WpguPO3yilwJM9K5XV9p2+WUHS+2pl3S0loHsRfS14vZmiVkSM7OvQ6robh9ToIdH8napVM6AdokkWqqxqPyDeW8WtSW3DkZC26xPkr8nOtpCh/jqaIjqz+x36j4k9RdYCndGEhmrsKMZLoda3sAPs9SsK4fjqmLPUDYvXFvZUa5i8ejeVT6WFJxXtZzh2qLWy7Xu8QDem4W29umQyqDfv7p83bcjXx0NS/1V033Q6y+0uKd8o5V1XskPntBdp26stH/Ir4yWEq16Y37A30Oa6qRMgia7cEDmvJqoym7nl8/TGcGmNEqNu5zeqDg+nDaLp1WWrXrI2sxBlJ8vIpBeWvG0PM0sylGd1V9fybl/9W/BjnZkH19bKsEVuaiMbuySzz+YXRrHZMz86cJ5b3rvI1dazXZmKLRZBR00QduSp73UujdVfr4+0te/aOw6ytvTlebNM6eflvRcX737Ka6/cv+gcdZfVNZuppCHh0JPGz2VOIfr+inKejrRUzftY3NPnpkoIr40X7QSnWY/tVV/ioueoqwpCdXACo+Ly5LmGZ1n6a+3VSOM7RIdF9tA51ct2ownT7NdLGX2VHkW1kMiRbaKpzvb19bnZZ40i86JpZo93ed3I/7IPnqfyy6JdJZDn2+XPxZXu8tLsV7+ctrHFp9fR9p6FNa32l/YJnzt05eWyzPa7s1mWtw62OI+vzvJlTnXXmrdm94+MifR9arY05eWk448reMyo8r6/afz2Mq6O84vvF+HX3r4KMl6OonWsD0qE/pvX5STClFq9NJ0qiOKktvUjFKT0H3klJjCCDYaV5SaCuV05umiNGqMox68bMu1O+rJ0Szs31xoyJPb/idNG6c9M9RdlzjFG9mnZjSdKpGLusVbzg56t4umrcdvDfldt7XMUo6ONuFrn6Vt1x6N/CXbu9UjF7nw62ATwGYV2kvX92YZ3v7FZ09PWkmfVUiP/WfvFFxL2f8wRpdyO1S9uHqlzjkcyQ1WGK0keJSaaW/klNoMSzSdey/l6dQZZetpmR3dlAfBy7gnfwbK0xnZZ8CoVs5wdtHE94xqu3YgBB++9tlV2w0XaKFch7A2C4a3j+y2f/HZM0nz5ZldZ/vTklhOWRG6X+rKPwxo/fUBt0Pd/EOe7Kqnmm4XMfdFOakYASW6wexoJfsQpcYVOaUr+lHOijbrHn0DnpbZNTWqsp7MY/RTsUqrq4d+P7b7QbbMZhvzdF35/Y3W3RXZp2928eGwi6+cNqHskqfi+0hv++ym7c5dkoXjVTvJim3JpUPIthS6vXTRR3r7F589PWmZPLU+o7bTTENu9tYvOeqvqu6u+lPl3TqE71A9U77bcu3r63J79Er8xGOktAHrobwryokvLffSPButpB9RanyRU+rSh3J6beYjsae+6cx0T64sq7dVWadyweMjzJRwzY9BmgszstPhpBWR46kWU7eNK7JPpbbk1r0eHrs4IxClBLOLPe3XobsPX/ssa7vGjlr06MfusL04bFZRh2A2q30f+fD1kWX9i8+erjRPnkq/W+9mJJo6b0visHrpl1xt3qd7irP+DjGFL1eRwy/FH86koj/M8KUXSoWP2dRNV5A2PPL52aWbj1iKhbbUZymwVS2bOyR8/R1aKdyJHGJpf13Z/grQJfrrwG6+xHN3vMk1Q93gByufm116d6i0pX5L/IAR3deJlN7f3Ui4+jvMQjxUAACAAPTwsxkAAABIwKECAAAEAIcKAAAQABwqAABAAHCoAAAAAcChAgAA9IzI/wPTieWfbD1EBQAAAABJRU5ErkJggg==)\n"
      ],
      "metadata": {
        "id": "BonDsXodNQN2"
      }
    }
  ]
}