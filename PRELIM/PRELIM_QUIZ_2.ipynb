{
  "nbformat": 4,
  "nbformat_minor": 0,
  "metadata": {
    "colab": {
      "provenance": []
    },
    "kernelspec": {
      "name": "python3",
      "display_name": "Python 3"
    },
    "language_info": {
      "name": "python"
    }
  },
  "cells": [
    {
      "cell_type": "markdown",
      "source": [
        "# CALAMBA, LIAM FRANCIS\n",
        "CPE22S3 - CPE 311 ||| 2/28/24\n",
        "\n",
        "\n",
        "\n",
        "Making Change. You are given n types of coin denominations of values v(1) < v(2) < ... < v(n) (all integers). Assume v(1) = 1, so you can always make change for any amount of money C. Give an algorithm which makes change for an amount of money C with as few coins as possible. [on problem set 4]"
      ],
      "metadata": {
        "id": "zv_7qTatFanK"
      }
    },
    {
      "cell_type": "code",
      "execution_count": 5,
      "metadata": {
        "colab": {
          "base_uri": "https://localhost:8080/"
        },
        "id": "4cV21hvFFHXv",
        "outputId": "cf19c49f-6c01-4727-f6c2-ee574f6e6376"
      },
      "outputs": [
        {
          "output_type": "stream",
          "name": "stdout",
          "text": [
            "26\n"
          ]
        }
      ],
      "source": [
        "def change(coins, n, sum, memo={}):\n",
        "    if sum == 0:\n",
        "        return 1\n",
        "    if sum <0 or n<=0:\n",
        "        return 0\n",
        "    if (n,sum) in memo:\n",
        "        return memo[(n,sum)]\n",
        "\n",
        "    change_w_coin = change(coins,n,sum-coins[n-1],memo)\n",
        "    change_wo_coins = change(coins, n-1, sum, memo)\n",
        "\n",
        "    memo[(n,sum)]=change_w_coin+change_wo_coins\n",
        "    return memo[(n,sum)]\n",
        "\n",
        "coins = [1,5,10,20]; n=len(coins)\n",
        "lcoin = change(coins, n, 37)\n",
        "\n",
        "print(lcoin)"
      ]
    },
    {
      "cell_type": "markdown",
      "source": [
        "🤔"
      ],
      "metadata": {
        "id": "zmo2g1XrGO-t"
      }
    }
  ]
}