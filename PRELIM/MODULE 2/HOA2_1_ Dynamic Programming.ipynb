{
  "cells": [
    {
      "cell_type": "markdown",
      "id": "f1c6ec95",
      "metadata": {
        "id": "f1c6ec95"
      },
      "source": [
        "# Hands-on Activity 2.1 : Dynamic Programming"
      ]
    },
    {
      "cell_type": "markdown",
      "id": "56dacba1",
      "metadata": {
        "id": "56dacba1"
      },
      "source": [
        "#### Objective(s):\n",
        "\n",
        "This activity aims to demonstrate how to use dynamic programming to solve problems."
      ]
    },
    {
      "cell_type": "markdown",
      "id": "e51f84e3",
      "metadata": {
        "id": "e51f84e3"
      },
      "source": [
        "#### Intended Learning Outcomes (ILOs):\n",
        "* Differentiate recursion method from dynamic programming to solve problems.\n",
        "* Demonstrate how to  solve real-world problems using dynamic programming\n"
      ]
    },
    {
      "cell_type": "markdown",
      "id": "39047b1a",
      "metadata": {
        "id": "39047b1a"
      },
      "source": [
        "#### Resources:\n",
        "* Jupyter Notebook\n"
      ]
    },
    {
      "cell_type": "markdown",
      "id": "cb5360c0",
      "metadata": {
        "id": "cb5360c0"
      },
      "source": [
        "#### Procedures:"
      ]
    },
    {
      "cell_type": "markdown",
      "id": "206a914c",
      "metadata": {
        "id": "206a914c"
      },
      "source": [
        "1. Create a code that demonstrate how to use recursion method to solve problem"
      ]
    },
    {
      "cell_type": "code",
      "source": [
        "#factorial recur\n",
        "def fac(n):\n",
        "    if (n==1):\n",
        "      return 1\n",
        "    if (n<=0):\n",
        "      return\" ?why? \"\n",
        "    else:\n",
        "      return n*fac(n-1)\n",
        "\n",
        "promp = int(input(\"factorial of: \"))\n",
        "print(fac(promp))"
      ],
      "metadata": {
        "colab": {
          "base_uri": "https://localhost:8080/"
        },
        "id": "8xT0ZwsI-cOA",
        "outputId": "baf746e9-999f-455b-e2ac-1dc230eac83e"
      },
      "id": "8xT0ZwsI-cOA",
      "execution_count": null,
      "outputs": [
        {
          "output_type": "stream",
          "name": "stdout",
          "text": [
            "factorial of: 9\n",
            "362880\n"
          ]
        }
      ]
    },
    {
      "cell_type": "markdown",
      "id": "5744a876",
      "metadata": {
        "id": "5744a876"
      },
      "source": [
        "2. Create a program codes that demonstrate how to use dynamic programming to solve the same problem"
      ]
    },
    {
      "cell_type": "code",
      "source": [
        "#leftover coins to change it for cash\n",
        "def count(coins, n, sum, memo={}):\n",
        "    if sum == 0:\n",
        "        return 1\n",
        "    if sum < 0 or n <= 0:\n",
        "        return 0\n",
        "    if (n, sum) in memo:\n",
        "        return memo[(n, sum)]\n",
        "\n",
        "    count_with_coin = count(coins, n, sum - coins[n - 1], memo)\n",
        "    count_without_coin = count(coins, n - 1, sum, memo)\n",
        "\n",
        "    memo[(n, sum)] = count_with_coin + count_without_coin\n",
        "    return memo[(n, sum)]\n",
        "\n",
        "coins = [1, 5, 10, 20]; n = len(coins)\n",
        "balls = str(count(coins, n, 20))\n",
        "print(\"There are \" + balls + \" coin combinations to change to cash.\")"
      ],
      "metadata": {
        "colab": {
          "base_uri": "https://localhost:8080/"
        },
        "id": "4G42RmFW-cy4",
        "outputId": "599a5290-e0f0-4335-c7af-f0c9ce4f32ac"
      },
      "id": "4G42RmFW-cy4",
      "execution_count": null,
      "outputs": [
        {
          "output_type": "stream",
          "name": "stdout",
          "text": [
            "There are 10 coin combinations to change to cash.\n"
          ]
        }
      ]
    },
    {
      "cell_type": "markdown",
      "id": "8e3f6572",
      "metadata": {
        "id": "8e3f6572"
      },
      "source": [
        "##### Question:\n",
        "Explain the difference of using the recursion from dynamic programming using the given sample codes to solve the same problem"
      ]
    },
    {
      "cell_type": "markdown",
      "id": "b5a71b53",
      "metadata": {
        "id": "b5a71b53"
      },
      "source": [
        "Type your answer here:\n",
        "\n",
        "\n",
        "\n"
      ]
    },
    {
      "cell_type": "markdown",
      "id": "60074702",
      "metadata": {
        "id": "60074702"
      },
      "source": [
        "3. Create a sample program codes to simulate bottom-up dynamic programming"
      ]
    },
    {
      "cell_type": "markdown",
      "id": "e629eb89",
      "metadata": {
        "id": "e629eb89"
      },
      "source": [
        "4. Create a sample program codes that simulate tops-down dynamic programming"
      ]
    },
    {
      "cell_type": "markdown",
      "id": "c2e2434c",
      "metadata": {
        "id": "c2e2434c"
      },
      "source": [
        "#### Question:\n",
        " Explain the difference between bottom-up from top-down dynamic programming using the given sample codes"
      ]
    },
    {
      "cell_type": "markdown",
      "id": "ac97e063",
      "metadata": {
        "id": "ac97e063"
      },
      "source": [
        "Type your answer here:\n",
        "\n",
        "\n",
        "\n",
        "\n"
      ]
    },
    {
      "cell_type": "markdown",
      "source": [
        "In **top down** we break the problem into smaller parts and smaller parts again until the problem is easier to solve than the previous problem, it uses recursing methods, and memoization to solve the certain problem.\n",
        "\n",
        "While in **bottom up** we solve the smaller problems first and as we solve all those small problems we can combine it to solve a bigger problem, it uses iteration and tabulation.\n",
        "\n",
        "imagine a search tree, in top down we search from the top down to the bottom, and bottom up is just rotated, we search from the smaller bottom nodes to the singular node at the top"
      ],
      "metadata": {
        "id": "2UUPhKXvLf3h"
      },
      "id": "2UUPhKXvLf3h"
    },
    {
      "cell_type": "markdown",
      "id": "f7a5bfbd",
      "metadata": {
        "id": "f7a5bfbd"
      },
      "source": [
        "0/1 Knapsack Problem\n",
        "\n",
        "* Analyze three different techniques to solve knapsacks problem\n",
        "1. Recursion\n",
        "2. Dynamic Programming\n",
        "3. Memoization"
      ]
    },
    {
      "cell_type": "code",
      "source": [
        "#sample code for knapsack problem using recursion\n",
        "def rec_knapSack(w, wt, val, n):\n",
        "\n",
        "  #base case\n",
        "  #defined as nth item is empty;\n",
        "  #or the capacity w is 0\n",
        "  if n == 0 or w == 0:\n",
        "    return 0\n",
        "\n",
        "  #if weight of the nth item is more than\n",
        "  #the capacity W, then this item cannot be included\n",
        "  #as part of the optimal solution\n",
        "  if(wt[n-1] > w):\n",
        "    return rec_knapSack(w, wt, val, n-1)\n",
        "\n",
        "  #return the maximum of the two cases:\n",
        "  # (1) include the nth item\n",
        "  # (2) don't include the nth item\n",
        "  else:\n",
        "    return max(\n",
        "        val[n-1] + rec_knapSack(\n",
        "            w-wt[n-1], wt, val, n-1),\n",
        "            rec_knapSack(w, wt, val, n-1)\n",
        "    )"
      ],
      "metadata": {
        "id": "15SVHF85_1Ji"
      },
      "id": "15SVHF85_1Ji",
      "execution_count": null,
      "outputs": []
    },
    {
      "cell_type": "code",
      "source": [
        "#To test:\n",
        "val = [60, 100, 120] #values for the items\n",
        "wt = [10, 20, 30] #weight of the items\n",
        "w = 50 #knapsack weight capacity\n",
        "n = len(val) #number of items\n",
        "\n",
        "rec_knapSack(w, wt, val, n)"
      ],
      "metadata": {
        "colab": {
          "base_uri": "https://localhost:8080/"
        },
        "id": "b1D3YRJ7cMqU",
        "outputId": "f5e43149-918b-4083-c6d8-99380719bd30"
      },
      "id": "b1D3YRJ7cMqU",
      "execution_count": null,
      "outputs": [
        {
          "output_type": "execute_result",
          "data": {
            "text/plain": [
              "220"
            ]
          },
          "metadata": {},
          "execution_count": 43
        }
      ]
    },
    {
      "cell_type": "code",
      "source": [
        "#Dynamic Programming for the Knapsack Problem\n",
        "def DP_knapSack(w, wt, val, n):\n",
        "  #create the table\n",
        "  table = [[0 for x in range(w+1)] for x in range (n+1)]\n",
        "\n",
        "  #populate the table in a bottom-up approach\n",
        "  for i in range(n+1):\n",
        "    for w in range(w+1):\n",
        "      if i == 0 or w == 0:\n",
        "        table[i][w] = 0\n",
        "      elif wt[i-1] <= w:\n",
        "        table[i][w] = max(val[i-1] + table[i-1][w-wt[i-1]],\n",
        "                          table[i-1][w])\n",
        "  return table[n][w]"
      ],
      "metadata": {
        "id": "A8OU1sUJ_1ES"
      },
      "id": "A8OU1sUJ_1ES",
      "execution_count": null,
      "outputs": []
    },
    {
      "cell_type": "code",
      "source": [
        "#To test:\n",
        "val = [60, 100, 120]\n",
        "wt = [10, 20, 30]\n",
        "w = 50\n",
        "n = len(val)\n",
        "\n",
        "DP_knapSack(w, wt, val, n)"
      ],
      "metadata": {
        "colab": {
          "base_uri": "https://localhost:8080/"
        },
        "id": "GUNeEPHrd-N1",
        "outputId": "0b8b8c7a-1f10-4522-b556-f12fe7642efb"
      },
      "id": "GUNeEPHrd-N1",
      "execution_count": null,
      "outputs": [
        {
          "output_type": "execute_result",
          "data": {
            "text/plain": [
              "220"
            ]
          },
          "metadata": {},
          "execution_count": 45
        }
      ]
    },
    {
      "cell_type": "code",
      "source": [
        "#Sample for top-down DP approach (memoization)\n",
        "#initialize the list of items\n",
        "val = [60, 100, 120]\n",
        "wt = [10, 20, 30]\n",
        "w = 50\n",
        "n = len(val)\n",
        "\n",
        "#initialize the container for the values that have to be stored\n",
        "#values are initialized to -1\n",
        "calc =[[-1 for i in range(w+1)] for j in range(n+1)]\n",
        "\n",
        "\n",
        "def mem_knapSack(wt, val, w, n):\n",
        "  #base conditions\n",
        "  if n == 0 or w == 0:\n",
        "    return 0\n",
        "  if calc[n][w] != -1:\n",
        "    return calc[n][w]\n",
        "\n",
        "  #compute for the other cases\n",
        "  if wt[n-1] <= w:\n",
        "    calc[n][w] = max(val[n-1] + mem_knapSack(wt, val, w-wt[n-1], n-1),\n",
        "                     mem_knapSack(wt, val, w, n-1))\n",
        "    return calc[n][w]\n",
        "  elif wt[n-1] > w:\n",
        "    calc[n][w] = mem_knapSack(wt, val, w, n-1)\n",
        "    return calc[n][w]\n",
        "\n",
        "mem_knapSack(wt, val, w, n)"
      ],
      "metadata": {
        "id": "VgwTX-XT_0_h",
        "colab": {
          "base_uri": "https://localhost:8080/"
        },
        "outputId": "eba09c55-d6a3-4802-a460-5c2713048963"
      },
      "id": "VgwTX-XT_0_h",
      "execution_count": null,
      "outputs": [
        {
          "output_type": "execute_result",
          "data": {
            "text/plain": [
              "220"
            ]
          },
          "metadata": {},
          "execution_count": 46
        }
      ]
    },
    {
      "cell_type": "markdown",
      "source": [
        "**Code Analysis**\n",
        "\n",
        "Recursive is easy to understand and do but sometimes when used in a large problem it is not really efficient to repeatedly compute. Dynamic on the other hand does not have repeating computaions."
      ],
      "metadata": {
        "id": "-UXSSblDcF8T"
      },
      "id": "-UXSSblDcF8T"
    },
    {
      "cell_type": "markdown",
      "id": "070ddd75",
      "metadata": {
        "id": "070ddd75"
      },
      "source": [
        "## Supplementary Problem (HOA 2.1 Submission):\n",
        "* Choose a real-life problem\n",
        "* Use recursion and dynamic programming to solve the problem"
      ]
    },
    {
      "cell_type": "markdown",
      "source": [
        "REAL LIFE PROBLEM v2:\n",
        "\n",
        "A Hardware Engineer is tasked to upgrade the existing computers for rendering because it's getting really slow to render and the hardware are getting out of date, the engineer is given a 1500 USD budget on each pc to upgrade the GPUs or the Processors of the computers, the engineer wants to get the best bang for the buck upgrade because of the limited budget, what could be the best upgrade to make the render times faster?"
      ],
      "metadata": {
        "id": "8M2ZY5HxPBlq"
      },
      "id": "8M2ZY5HxPBlq"
    },
    {
      "cell_type": "code",
      "execution_count": null,
      "id": "86eef507",
      "metadata": {
        "id": "86eef507",
        "colab": {
          "base_uri": "https://localhost:8080/"
        },
        "outputId": "a6421a01-7679-4ec4-9469-dbd3165534a8"
      },
      "outputs": [
        {
          "output_type": "stream",
          "name": "stdout",
          "text": [
            "Total performance of components selected = 770\n",
            "    RYZEN 7 5800X3D: <100, 330>\n",
            "    RTX 4070TI: <300, 490>\n",
            "    RTX 3060: <180, 280>\n",
            "    RTX 4060: <190, 290>\n"
          ]
        }
      ],
      "source": [
        "#type your code here for recursion programming solution\n",
        "#based on previous HOA knapsack code\n",
        "class Upg(object):\n",
        "    def __init__(self, name, performance, cost):\n",
        "        self.name = name\n",
        "        self.performance = performance\n",
        "        self.cost = cost\n",
        "\n",
        "    def getPerformance(self):\n",
        "        return self.performance\n",
        "\n",
        "    def getCost(self):\n",
        "        return self.cost\n",
        "\n",
        "    def efficiency(self):\n",
        "        return self.getPerformance() / self.getCost()\n",
        "\n",
        "    def __str__(self):\n",
        "        return self.name + ': <' + str(self.performance) + ', ' + str(self.cost) + '>'\n",
        "\n",
        "def buildComponents(names, performances, costs):\n",
        "    components = []\n",
        "    for i in range(len(performances)):\n",
        "        components.append(Upg(names[i], performances[i], costs[i]))\n",
        "    return components\n",
        "\n",
        "def knapsack(components, budget):\n",
        "    if not components or budget <= 0:\n",
        "        return [], 0\n",
        "\n",
        "    first_component = components[0]\n",
        "\n",
        "    if first_component.getCost() <= budget:\n",
        "        with_first_component, performance_with_first = knapsack(components[1:], budget - first_component.getCost())\n",
        "        with_first_component.append(first_component)\n",
        "        performance_with_first += first_component.getPerformance()\n",
        "    else:\n",
        "        with_first_component, performance_with_first = [], 0\n",
        "\n",
        "    without_first_component, performance_without_first = knapsack(components[1:], budget)\n",
        "\n",
        "    if performance_with_first > performance_without_first:\n",
        "        return with_first_component, performance_with_first\n",
        "    else:\n",
        "        return without_first_component, performance_without_first\n",
        "\n",
        "def testKnapsack(components, budget):\n",
        "    taken, total_performance = knapsack(components, budget)\n",
        "    print('Total performance of components selected =', total_performance)\n",
        "    for component in taken:\n",
        "        print('   ', component)\n",
        "\n",
        "component_names = ['RTX 4060', 'RTX 3060', 'RTX 4070TI', 'RYZEN 7 5800X3D', 'RYZEN 5 5600X3D', 'RYZEN 9 5950X']\n",
        "performances = [190, 180, 300, 100, 90, 170]  # Performance values\n",
        "costs = [290, 280, 490, 330, 300, 450]   # Cost values (in USD)\n",
        "\n",
        "components = buildComponents(component_names, performances, costs)\n",
        "\n",
        "testKnapsack(components, 1500)"
      ]
    },
    {
      "cell_type": "code",
      "execution_count": null,
      "id": "73b071b6",
      "metadata": {
        "id": "73b071b6",
        "colab": {
          "base_uri": "https://localhost:8080/"
        },
        "outputId": "a138e615-df92-44b8-bd93-86631b3bb51a"
      },
      "outputs": [
        {
          "output_type": "stream",
          "name": "stdout",
          "text": [
            "Total performance of components selected = 770\n",
            "    RYZEN 7 5800X3D: <100, 330>\n",
            "    RTX 4070TI: <300, 490>\n",
            "    RTX 3060: <180, 280>\n",
            "    RTX 4060: <190, 290>\n",
            "Total performance of components selected = 940\n",
            "    RYZEN 9 5950X: <170, 450>\n",
            "    RYZEN 7 5800X3D: <100, 330>\n",
            "    RTX 4070TI: <300, 490>\n",
            "    RTX 3060: <180, 280>\n",
            "    RTX 4060: <190, 290>\n"
          ]
        }
      ],
      "source": [
        "#type your code here for dynamic programming solution\n",
        "class Upg(object):\n",
        "    def __init__(self, name, performance, cost):\n",
        "        self.name = name\n",
        "        self.performance = performance\n",
        "        self.cost = cost\n",
        "\n",
        "    def getPerformance(self):\n",
        "        return self.performance\n",
        "\n",
        "    def getCost(self):\n",
        "        return self.cost\n",
        "\n",
        "    def efficiency(self):\n",
        "        return self.getPerformance() / self.getCost()\n",
        "\n",
        "    def __str__(self):\n",
        "        return self.name + ': <' + str(self.performance) + ', ' + str(self.cost) + '>'\n",
        "\n",
        "def buildComponents(names, performances, costs):\n",
        "    components = []\n",
        "    for i in range(len(performances)):\n",
        "        components.append(Upg(names[i], performances[i], costs[i]))\n",
        "    return components\n",
        "\n",
        "def knapsack(components, budget):\n",
        "    n = len(components)\n",
        "    dp = [[0] * (budget + 1) for _ in range(n + 1)] #2d arr\n",
        "\n",
        "    for i in range(1, n + 1):\n",
        "        for j in range(1, budget + 1):\n",
        "            if components[i - 1].getCost() <= j:\n",
        "                dp[i][j] = max(dp[i - 1][j], dp[i - 1][j - components[i - 1].getCost()] + components[i - 1].getPerformance())\n",
        "            else:\n",
        "                dp[i][j] = dp[i - 1][j]\n",
        "\n",
        "    selected_components = []\n",
        "    j = budget\n",
        "    for i in range(n, 0, -1):\n",
        "        if dp[i][j] != dp[i - 1][j]:\n",
        "            selected_components.append(components[i - 1])\n",
        "            j -= components[i - 1].getCost()\n",
        "\n",
        "    return selected_components, dp[n][budget]\n",
        "\n",
        "def testKnapsack(components, budget):\n",
        "    taken, total_performance = knapsack(components, budget)\n",
        "    print('Total performance of components selected =', total_performance)\n",
        "    for component in taken:\n",
        "        print('   ', component)\n",
        "\n",
        "component_names = ['RTX 4060', 'RTX 3060', 'RTX 4070TI', 'RYZEN 7 5800X3D', 'RYZEN 5 5600X3D', 'RYZEN 9 5950X']\n",
        "performances = [190, 180, 300, 100, 90, 170]  # Performance values\n",
        "costs = [290, 280, 490, 330, 300, 450]   # Cost values (in USD)\n",
        "\n",
        "components = buildComponents(component_names, performances, costs)\n",
        "\n",
        "testKnapsack(components, 1500)\n",
        "\n",
        "#testKnapsack(components, 2000)"
      ]
    },
    {
      "cell_type": "markdown",
      "id": "bb0ed6a9",
      "metadata": {
        "id": "bb0ed6a9"
      },
      "source": [
        "#### Conclusion"
      ]
    },
    {
      "cell_type": "markdown",
      "source": [
        "This activity made me familiar about Dynamic programming, how it is better than recursion methods because of how more efficient it is to combine small solutions to solve a big problem rather than repeatedly breaking down a big problem, I am sometimes confused on the concept, but I can manage when I try my hardest to understand, this also made me realize that there is more on understanding these concepts because we can still use it in the real world (not just in coding) where there are a lot of problems that can be solved"
      ],
      "metadata": {
        "id": "eqdM3um3wkdn"
      },
      "id": "eqdM3um3wkdn"
    }
  ],
  "metadata": {
    "kernelspec": {
      "display_name": "Python 3",
      "language": "python",
      "name": "python3"
    },
    "language_info": {
      "codemirror_mode": {
        "name": "ipython",
        "version": 3
      },
      "file_extension": ".py",
      "mimetype": "text/x-python",
      "name": "python",
      "nbconvert_exporter": "python",
      "pygments_lexer": "ipython3",
      "version": "3.7.10"
    },
    "colab": {
      "provenance": []
    }
  },
  "nbformat": 4,
  "nbformat_minor": 5
}